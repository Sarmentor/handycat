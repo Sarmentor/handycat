{
 "cells": [
  {
   "cell_type": "code",
   "execution_count": null,
   "metadata": {
    "collapsed": true
   },
   "outputs": [],
   "source": [
    "import os\n",
    "import json\n",
    "import codecs\n",
    "import difflib\n",
    "from collections import defaultdict, Counter\n"
   ]
  },
  {
   "cell_type": "code",
   "execution_count": null,
   "metadata": {
    "collapsed": true
   },
   "outputs": [],
   "source": [
    "logdir = '/media/1tb_drive/Dropbox/projects/handycat_postediting_with_Felix/workshop_logs'\n",
    "logdir = '/home/chris/Desktop/Dropbox/projects/handycat_postediting_with_Felix/workshop_logs'"
   ]
  },
  {
   "cell_type": "code",
   "execution_count": null,
   "metadata": {
    "collapsed": false
   },
   "outputs": [],
   "source": [
    "logfiles = [os.path.join(logdir, f) for f in os.listdir(logdir)\n",
    "            if os.path.isfile(os.path.join(logdir, f))]"
   ]
  },
  {
   "cell_type": "code",
   "execution_count": null,
   "metadata": {
    "collapsed": false
   },
   "outputs": [],
   "source": [
    "len(logfiles)"
   ]
  },
  {
   "cell_type": "code",
   "execution_count": null,
   "metadata": {
    "collapsed": true
   },
   "outputs": [],
   "source": [
    "json_logs = [json.loads(codecs.open(f, encoding='utf8').read()) for f in logfiles]"
   ]
  },
  {
   "cell_type": "code",
   "execution_count": null,
   "metadata": {
    "collapsed": false
   },
   "outputs": [],
   "source": [
    "import json\n",
    "\n",
    "# the experiment config\n",
    "experiment_groups = [\n",
    "  {\n",
    "    'name'       : 'Demo',\n",
    "    'sampleFiles': [\n",
    "      {\n",
    "        'name'         : 'Session 0 - Project 0 - Post Editor',\n",
    "        'internalName' : 'Mobile Phone Instructions - Post Editor',\n",
    "        'url'          : 'data/porto_experiments/matecat/Project_1_-_Mobile_phone_instructions.doc.xlf',\n",
    "        'configuration': {\n",
    "          'target': {\n",
    "            'activeComponent' : 'postEditor',\n",
    "            'defaultComponent': 'postEditor',\n",
    "            'components'      : [\n",
    "              {\n",
    "                'directiveName': 'postEditor',\n",
    "                'textName'     : 'Post Editor'\n",
    "              }\n",
    "            ]\n",
    "          }\n",
    "        },\n",
    "      },\n",
    "      {\n",
    "        'name'         : 'Session 0 - Project 0 - Autocomplete',\n",
    "        'internalName' : 'Mobile Phone Instructions - Autocomplete',\n",
    "        'url'          : 'data/porto_experiments/matecat/Project_1_-_Mobile_phone_instructions.doc.xlf',\n",
    "        'configuration': {\n",
    "          'target': {\n",
    "            'activeComponent' : 'typeaheadEditor',\n",
    "            'defaultComponent': 'typeaheadEditor',\n",
    "            'components'      : [\n",
    "              {\n",
    "                'directiveName': 'typeaheadEditor',\n",
    "                'textName'     : 'Autocomplete'\n",
    "              }\n",
    "            ]\n",
    "          }\n",
    "        },\n",
    "      }\n",
    "    ]\n",
    "  },\n",
    "  {\n",
    "    'name'       : 'Group 1',\n",
    "    'sampleFiles': [\n",
    "      {\n",
    "        'name'         : 'Group 1 - Session 1',\n",
    "        'internalName' : 'Marketing Questionnaire - Autocomplete',\n",
    "        'url'          : 'data/porto_experiments/matecat/Project_2_-_Marketing_questionnaire.doc.xlf',\n",
    "        'configuration': {\n",
    "          'target': {\n",
    "            'activeComponent' : 'typeaheadEditor',\n",
    "            'defaultComponent': 'typeaheadEditor',\n",
    "            'components'      : [\n",
    "              {\n",
    "                'directiveName': 'typeaheadEditor',\n",
    "                'textName'     : 'Autocomplete'\n",
    "              }\n",
    "            ]\n",
    "          }\n",
    "        },\n",
    "      },\n",
    "      {\n",
    "        'name'         : 'Group 1 - Session 2',\n",
    "        'internalName' : 'Product Catalog - Office Supplies - postEditor',\n",
    "        'url'          : 'data/porto_experiments/matecat/Project_3_-_Product_catalog_-_Office_supplies.doc.xlf',\n",
    "        'configuration': {\n",
    "          'target': {\n",
    "            'activeComponent' : 'postEditor',\n",
    "            'defaultComponent': 'postEditor',\n",
    "            'components'      : [\n",
    "              {\n",
    "                'directiveName': 'postEditor',\n",
    "                'textName'     : 'Post Editor'\n",
    "              }\n",
    "            ]\n",
    "          }\n",
    "        },\n",
    "      },\n",
    "      {\n",
    "        'name'         : 'Group 1 - Session 3',\n",
    "        'internalName' : 'User Manual - Industrial Equipment - Autocomplete',\n",
    "        'url'          : 'data/porto_experiments/matecat/Project_4_-_User_manual_-_industrial_equipment.doc.xlf',\n",
    "        'configuration': {\n",
    "          'target': {\n",
    "            'activeComponent' : 'typeaheadEditor',\n",
    "            'defaultComponent': 'typeaheadEditor',\n",
    "            'components'      : [\n",
    "              {\n",
    "                'directiveName': 'typeaheadEditor',\n",
    "                'textName'     : 'Autocomplete'\n",
    "              }\n",
    "            ]\n",
    "          }\n",
    "        },\n",
    "      },\n",
    "      {\n",
    "        'name'         : 'Group 1 - Session 4',\n",
    "        'internalName' : 'User Manual - Industrial Equipment - postEditor',\n",
    "        'url'          : 'data/porto_experiments/matecat/Project_4_-_User_manual_-_industrial_equipment.doc.xlf',\n",
    "        'configuration': {\n",
    "          'target': {\n",
    "            'activeComponent' : 'postEditor',\n",
    "            'defaultComponent': 'postEditor',\n",
    "            'components'      : [\n",
    "              {\n",
    "                'directiveName': 'postEditor',\n",
    "                'textName'     : 'Post Editor'\n",
    "              }\n",
    "            ]\n",
    "          }\n",
    "        }\n",
    "      }\n",
    "    ]\n",
    "  },\n",
    "  {\n",
    "    'name'       : 'Group 2',\n",
    "    'sampleFiles': [\n",
    "      {\n",
    "        'name'         : 'Group 2 - Session 1',\n",
    "        'internalName' : 'Product Catalog - Office Supplies - Autocomplete',\n",
    "        'url'          : 'data/porto_experiments/matecat/Project_3_-_Product_catalog_-_Office_supplies.doc.xlf',\n",
    "        'configuration': {\n",
    "          'target': {\n",
    "            'activeComponent' : 'typeaheadEditor',\n",
    "            'defaultComponent': 'typeaheadEditor',\n",
    "            'components'      : [\n",
    "              {\n",
    "                'directiveName': 'typeaheadEditor',\n",
    "                'textName'     : 'Autocomplete'\n",
    "              }\n",
    "            ]\n",
    "          }\n",
    "        },\n",
    "      },\n",
    "      {\n",
    "        'name'         : 'Group 2 - Session 2',\n",
    "        'internalName' : 'User Manual - Industrial Equipment - Post Editor',\n",
    "        'url'          : 'data/porto_experiments/matecat/Project_4_-_User_manual_-_industrial_equipment.doc.xlf',\n",
    "        'configuration': {\n",
    "          'target': {\n",
    "            'activeComponent' : 'postEditor',\n",
    "            'defaultComponent': 'postEditor',\n",
    "            'components'      : [\n",
    "              {\n",
    "                'directiveName': 'postEditor',\n",
    "                'textName'     : 'Post Editor'\n",
    "              }\n",
    "            ]\n",
    "          }\n",
    "        }\n",
    "      },\n",
    "      {\n",
    "        'name'         : 'Group 2 - Session 3',\n",
    "        'internalName' : 'Marketing Questionnaire - Autocomplete',\n",
    "        'url'          : 'data/porto_experiments/matecat/Project_2_-_Marketing_questionnaire.doc.xlf',\n",
    "        'configuration': {\n",
    "          'target': {\n",
    "            'activeComponent' : 'typeaheadEditor',\n",
    "            'defaultComponent': 'typeaheadEditor',\n",
    "            'components'      : [\n",
    "              {\n",
    "                'directiveName': 'typeaheadEditor',\n",
    "                'textName'     : 'Autocomplete'\n",
    "              }\n",
    "            ]\n",
    "          }\n",
    "        },\n",
    "      },\n",
    "      {\n",
    "        'name'         : 'Group 2 - Session 4',\n",
    "        'internalName' : 'Marketing Questionnaire - Post Editor',\n",
    "        'url'          : 'data/porto_experiments/matecat/Project_2_-_Marketing_questionnaire.doc.xlf',\n",
    "        'configuration': {\n",
    "          'target': {\n",
    "            'activeComponent' : 'postEditor',\n",
    "            'defaultComponent': 'postEditor',\n",
    "            'components'      : [\n",
    "              {\n",
    "                'directiveName': 'postEditor',\n",
    "                'textName'     : 'Post Editor'\n",
    "              }\n",
    "            ]\n",
    "          }\n",
    "        },\n",
    "      }\n",
    "    ]\n",
    "  },\n",
    "  {\n",
    "    'name'       : 'Group 3',\n",
    "    'sampleFiles': [\n",
    "      {\n",
    "        'name'         : 'Group 3 - Session 1',\n",
    "        'internalName' : 'User Manual - Industrial Equipment - Autocomplete',\n",
    "        'url'          : 'data/porto_experiments/matecat/Project_4_-_User_manual_-_industrial_equipment.doc.xlf',\n",
    "        'configuration': {\n",
    "          'target': {\n",
    "            'activeComponent' : 'typeaheadEditor',\n",
    "            'defaultComponent': 'typeaheadEditor',\n",
    "            'components'      : [\n",
    "              {\n",
    "                'directiveName': 'typeaheadEditor',\n",
    "                'textName'     : 'Autocomplete'\n",
    "              }\n",
    "            ]\n",
    "          }\n",
    "        }\n",
    "      },\n",
    "      {\n",
    "        'name'         : 'Group 3 - Session 2',\n",
    "        'internalName' : 'Marketing Questionnaire - Post Editor',\n",
    "        'url'          : 'data/porto_experiments/matecat/Project_2_-_Marketing_questionnaire.doc.xlf',\n",
    "        'configuration': {\n",
    "          'target': {\n",
    "            'activeComponent' : 'postEditor',\n",
    "            'defaultComponent': 'postEditor',\n",
    "            'components'      : [\n",
    "              {\n",
    "                'directiveName': 'postEditor',\n",
    "                'textName'     : 'Post Editor'\n",
    "              }\n",
    "            ]\n",
    "          }\n",
    "        },\n",
    "      },\n",
    "      {\n",
    "        'name'         : 'Group 3 - Session 3',\n",
    "        'internalName' : 'Product Catalog - Office Supplies - Autocomplete',\n",
    "        'url'          : 'data/porto_experiments/matecat/Project_3_-_Product_catalog_-_Office_supplies.doc.xlf',\n",
    "        'configuration': {\n",
    "          'target': {\n",
    "            'activeComponent' : 'typeaheadEditor',\n",
    "            'defaultComponent': 'typeaheadEditor',\n",
    "            'components'      : [\n",
    "              {\n",
    "                'directiveName': 'typeaheadEditor',\n",
    "                'textName'     : 'Autocomplete'\n",
    "              }\n",
    "            ]\n",
    "          }\n",
    "        },\n",
    "      },\n",
    "      {\n",
    "        'name'         : 'Group 3 - Session 4',\n",
    "        'internalName' : 'Product Catalog - Office Supplies - Post Editor',\n",
    "        'url'          : 'data/porto_experiments/matecat/Project_3_-_Product_catalog_-_Office_supplies.doc.xlf',\n",
    "        'configuration': {\n",
    "          'target': {\n",
    "            'activeComponent' : 'postEditor',\n",
    "            'defaultComponent': 'postEditor',\n",
    "            'components'      : [\n",
    "              {\n",
    "                'directiveName': 'postEditor',\n",
    "                'textName'     : 'Post Editor'\n",
    "              }\n",
    "            ]\n",
    "          }\n",
    "        },\n",
    "      },\n",
    "    ]\n",
    "  }\n",
    "]\n",
    "\n"
   ]
  },
  {
   "cell_type": "code",
   "execution_count": null,
   "metadata": {
    "collapsed": false
   },
   "outputs": [],
   "source": [
    "document_configs = [doc for group in experiment_groups for doc in group['sampleFiles']]\n",
    "# filter out the demo projects\n",
    "demo_projects = set(['Session 0 - Project 0 - Post Editor', 'Session 0 - Project 0 - Autocomplete'])\n",
    "document_configs = [d for d in document_configs if d['name'] not in demo_projects]\n",
    "experiment_docs = set([d['name'] for d in document_configs])\n",
    "len(document_configs)\n",
    "\n",
    "post_editor_projects = [doc for doc in document_configs \n",
    "                        if doc['configuration']['target']['activeComponent'] == 'postEditor']\n",
    "autocomplete_projects = [doc for doc in document_configs \n",
    "                         if doc['configuration']['target']['activeComponent'] == 'typeaheadEditor']"
   ]
  },
  {
   "cell_type": "code",
   "execution_count": null,
   "metadata": {
    "collapsed": false
   },
   "outputs": [],
   "source": [
    "len(post_editor_projects)"
   ]
  },
  {
   "cell_type": "code",
   "execution_count": null,
   "metadata": {
    "collapsed": false
   },
   "outputs": [],
   "source": [
    "len(autocomplete_projects)"
   ]
  },
  {
   "cell_type": "code",
   "execution_count": null,
   "metadata": {
    "collapsed": false
   },
   "outputs": [],
   "source": [
    "sessions_by_project = defaultdict(list)\n",
    "for user_log in json_logs:\n",
    "    for docname, log in user_log['document'].items():\n",
    "        if docname in experiment_docs:\n",
    "            sessions_by_project[docname].append(log)\n",
    "            "
   ]
  },
  {
   "cell_type": "code",
   "execution_count": null,
   "metadata": {
    "collapsed": false
   },
   "outputs": [],
   "source": [
    "print('\\n'.join(['Name: {}, sessions: {}'.format(name, len(docs))\n",
    "                 for name, docs in sessions_by_project.items()]))\n",
    "project_names, project_lens = zip(*[(name, len(docs)) for name, docs in sessions_by_project.items()])"
   ]
  },
  {
   "cell_type": "code",
   "execution_count": null,
   "metadata": {
    "collapsed": false
   },
   "outputs": [],
   "source": [
    "import plotly.plotly as py\n",
    "import plotly.graph_objs as go\n",
    "\n",
    "data = [go.Bar(\n",
    "            x=project_names,\n",
    "            y=project_lens\n",
    "    )]\n",
    "\n",
    "py.iplot(data, filename='porto_sessions-per-project')"
   ]
  },
  {
   "cell_type": "code",
   "execution_count": null,
   "metadata": {
    "collapsed": true
   },
   "outputs": [],
   "source": [
    "# which post editing actions did users use most?\n",
    "# time per segment given a dict of segments \n",
    "def get_editing_actions_per_segment(segments):\n",
    "    # segments are indexed by id\n",
    "    # 'change-segment' and 'segment-complete'\n",
    "    # remove outliers\n",
    "    \n",
    "    ordered_segments = sorted([(int(k), v) for k,v in segments.items()], key=lambda x: x[0])\n",
    "    segment_actions = []\n",
    "    for seg_id, events in ordered_segments:\n",
    "        action_names = [e['action'] for e in events]\n",
    "        all_actions = Counter(action_names)\n",
    "        segment_actions.append((seg_id, all_actions))\n",
    "\n",
    "    return segment_actions\n",
    "    "
   ]
  },
  {
   "cell_type": "code",
   "execution_count": null,
   "metadata": {
    "collapsed": true
   },
   "outputs": [],
   "source": [
    "# time per segment given a dict of segments \n",
    "def get_time_per_segment(segments):\n",
    "    # segments are indexed by id\n",
    "    # 'change-segment' and 'segment-complete'\n",
    "    # remove outliers\n",
    "    \n",
    "    ordered_segments = sorted([(int(k), v) for k,v in segments.items()], key=lambda x: x[0])\n",
    "    segment_times = []\n",
    "    for seg_id, events in ordered_segments:\n",
    "        action_names = [e['action'] for e in events]\n",
    "        time_in_segment = 0\n",
    "        if 'change-segment' in action_names:\n",
    "            start_event_idx = action_names.index('change-segment')\n",
    "            # first index of 'change-segment'\n",
    "            start_event_time = events[start_event_idx]['time']\n",
    "            if 'segment-complete' in action_names:\n",
    "                # last index of 'segment-complete'\n",
    "                end_event_idx = len(action_names) - 1 - action_names[::-1].index('segment-complete')\n",
    "                end_event_time = events[end_event_idx]['time']\n",
    "                time_in_segment = end_event_time - start_event_time\n",
    "                # convert to minutes\n",
    "                time_in_segment = time_in_segment / 60. / 60.\n",
    "\n",
    "        segment_times.append((seg_id, time_in_segment))\n",
    "\n",
    "    return segment_times\n",
    "    "
   ]
  },
  {
   "cell_type": "code",
   "execution_count": null,
   "metadata": {
    "collapsed": true
   },
   "outputs": [],
   "source": [
    "import difflib\n",
    "\n",
    "# time per segment given a dict of segments \n",
    "def get_editdistance_per_segment(segments, char_level=True):\n",
    "    # segments are indexed by id\n",
    "    # 'change-segment' and 'segment-complete'\n",
    "    # remove outliers\n",
    "    \n",
    "    ordered_segments = sorted([(int(k), v) for k,v in segments.items()], key=lambda x: x[0])\n",
    "    segment_times = []\n",
    "    for seg_id, events in ordered_segments:\n",
    "        action_names = [e['action'] for e in events]\n",
    "        if 'segment-complete' in action_names:\n",
    "            # last index of 'segment-complete'\n",
    "            end_event_idx = len(action_names) - 1 - action_names[::-1].index('segment-complete')\n",
    "            complete_event = events[end_event_idx]\n",
    "            prev_value = complete_event['data']['previousValue']\n",
    "            new_value = complete_event['data']['newValue']\n",
    "            matcher = difflib.SequenceMatcher(isjunk=None, a=prev_value, b=new_value)\n",
    "            segment_times.append((seg_id, 1. - matcher.ratio()))\n",
    "    return segment_times"
   ]
  },
  {
   "cell_type": "code",
   "execution_count": null,
   "metadata": {
    "collapsed": false
   },
   "outputs": [],
   "source": [
    "# Get edit distances per segment\n",
    "distance_per_segment_per_project = defaultdict()\n",
    "for project_id, sessions in sessions_by_project.items():\n",
    "    distance_per_segment_per_project[project_id] = defaultdict(list)\n",
    "    for session in sessions:\n",
    "        segment_distances = get_editdistance_per_segment(session['segments'])\n",
    "        for seg_id, distance in segment_distances:\n",
    "            distance_per_segment_per_project[project_id][seg_id].append(distance)\n",
    "    \n",
    "    # now remove outliers\n",
    "#     for seg_id, distances in distance_per_segment_per_project[project_id].items():\n",
    "#         orig_count = len(distance)\n",
    "#         filtered_times = reject_outliers(times)\n",
    "#         times_per_segment_per_project[project_id][seg_id] = filtered_times\n",
    "#         print('rejected {} entries from {}'.format(orig_count - len(filtered_times), orig_count))"
   ]
  },
  {
   "cell_type": "code",
   "execution_count": null,
   "metadata": {
    "collapsed": false
   },
   "outputs": [],
   "source": [
    "distance_per_segment_per_project['Group 1 - Session 1']"
   ]
  },
  {
   "cell_type": "code",
   "execution_count": null,
   "metadata": {
    "collapsed": true
   },
   "outputs": [],
   "source": [
    "import numpy as np\n",
    "\n",
    "def reject_outliers(data, m = 4.):\n",
    "    data = np.atleast_1d(np.array(data))\n",
    "    if len(data) < 3:\n",
    "        return data\n",
    "    d = np.abs(data - np.median(data))\n",
    "    mdev = np.median(d)\n",
    "    s = d/mdev if mdev else np.zeros(d.shape)\n",
    "    return data[s<m]"
   ]
  },
  {
   "cell_type": "code",
   "execution_count": null,
   "metadata": {
    "collapsed": false
   },
   "outputs": [],
   "source": [
    "# Get times per segment, reject outliers\n",
    "times_per_segment_per_project = defaultdict()\n",
    "for project_id, sessions in sessions_by_project.items():\n",
    "    times_per_segment_per_project[project_id] = defaultdict(list)\n",
    "    for session in sessions:\n",
    "        segment_times = get_time_per_segment(session['segments'])\n",
    "        for seg_id, time_in_seg in segment_times:\n",
    "            times_per_segment_per_project[project_id][seg_id].append(time_in_seg)\n",
    "    # now remove outliers\n",
    "    for seg_id, times in times_per_segment_per_project[project_id].items():\n",
    "        orig_count = len(times)\n",
    "        filtered_times = reject_outliers(times)\n",
    "        times_per_segment_per_project[project_id][seg_id] = filtered_times\n",
    "        print('rejected {} entries from {}'.format(orig_count - len(filtered_times), orig_count))"
   ]
  },
  {
   "cell_type": "code",
   "execution_count": null,
   "metadata": {
    "collapsed": false
   },
   "outputs": [],
   "source": [
    "min_count = 5\n",
    "\n",
    "with open('average_time_per_segment_per_project.csv', 'w') as out:\n",
    "    sorted_pj_names = sorted(times_per_segment_per_project.keys())\n",
    "    out.write(u', '.join(sorted_pj_names) + '\\n')\n",
    "    max_row_idx = max(r_id for pj in sorted_pj_names for r_id in times_per_segment_per_project[pj].keys())\n",
    "    for i in range(max_row_idx):\n",
    "        row_vals = []\n",
    "        for pj in sorted_pj_names:\n",
    "            seg_dict = dict(times_per_segment_per_project[pj])\n",
    "            if i in seg_dict and len(seg_dict[i]) > min_count:\n",
    "                row_vals.append(np.mean(seg_dict[i]))\n",
    "            else:\n",
    "                row_vals.append(None)\n",
    "        out.write(u', '.join([str(val) for val in row_vals]) + '\\n') \n",
    "        "
   ]
  },
  {
   "cell_type": "code",
   "execution_count": null,
   "metadata": {
    "collapsed": true
   },
   "outputs": [],
   "source": [
    "min_count = 5\n",
    "\n",
    "with open('average_edit_distance_per_segment_per_project.csv', 'w') as out:\n",
    "    sorted_pj_names = sorted(distance_per_segment_per_project.keys())\n",
    "    out.write(u', '.join(sorted_pj_names) + '\\n')\n",
    "    max_row_idx = max(r_id for pj in sorted_pj_names for r_id in distance_per_segment_per_project[pj].keys())\n",
    "    for i in range(max_row_idx):\n",
    "        row_vals = []\n",
    "        for pj in sorted_pj_names:\n",
    "            seg_dict = dict(distance_per_segment_per_project[pj])\n",
    "            if i in seg_dict and len(seg_dict[i]) > min_count:\n",
    "                row_vals.append(np.mean(seg_dict[i]))\n",
    "            else:\n",
    "                row_vals.append(None)\n",
    "        out.write(u', '.join([str(val) for val in row_vals]) + '\\n') "
   ]
  },
  {
   "cell_type": "code",
   "execution_count": null,
   "metadata": {
    "collapsed": true
   },
   "outputs": [],
   "source": [
    "min_count = 5\n",
    "\n",
    "with open('average_time_per_posteditor_project.csv', 'w') as out:\n",
    "    sorted_pj_names = [doc['name'] for doc in post_editor_projects]\n",
    "    out.write(u', '.join(sorted_pj_names) + '\\n')\n",
    "    max_row_idx = max(r_id for pj in sorted_pj_names for r_id in times_per_segment_per_project[pj].keys())\n",
    "    for i in range(max_row_idx):\n",
    "        row_vals = []\n",
    "        for pj in sorted_pj_names:\n",
    "            seg_dict = dict(times_per_segment_per_project[pj])\n",
    "            if i in seg_dict and len(seg_dict[i]) > min_count:\n",
    "                row_vals.append(np.mean(seg_dict[i]))\n",
    "            else:\n",
    "                row_vals.append(None)\n",
    "        out.write(u', '.join([str(val) for val in row_vals]) + '\\n') "
   ]
  },
  {
   "cell_type": "code",
   "execution_count": null,
   "metadata": {
    "collapsed": true
   },
   "outputs": [],
   "source": [
    "min_count = 5\n",
    "\n",
    "with open('average_distance_per_posteditor_project.csv', 'w') as out:\n",
    "    sorted_pj_names = [doc['name'] for doc in post_editor_projects]\n",
    "    out.write(u', '.join(sorted_pj_names) + '\\n')\n",
    "    max_row_idx = max(r_id for pj in sorted_pj_names for r_id in distance_per_segment_per_project[pj].keys())\n",
    "    for i in range(max_row_idx):\n",
    "        row_vals = []\n",
    "        for pj in sorted_pj_names:\n",
    "            seg_dict = dict(distance_per_segment_per_project[pj])\n",
    "            if i in seg_dict and len(seg_dict[i]) > min_count:\n",
    "                row_vals.append(np.mean(seg_dict[i]))\n",
    "            else:\n",
    "                row_vals.append(None)\n",
    "        out.write(u', '.join([str(val) for val in row_vals]) + '\\n') "
   ]
  },
  {
   "cell_type": "code",
   "execution_count": null,
   "metadata": {
    "collapsed": true
   },
   "outputs": [],
   "source": [
    "min_count = 5\n",
    "\n",
    "with open('average_time_per_autocomplete_project.csv', 'w') as out:\n",
    "    sorted_pj_names = [doc['name'] for doc in autocomplete_projects]\n",
    "    out.write(u', '.join(sorted_pj_names) + '\\n')\n",
    "    max_row_idx = max(r_id for pj in sorted_pj_names for r_id in times_per_segment_per_project[pj].keys())\n",
    "    for i in range(max_row_idx):\n",
    "        row_vals = []\n",
    "        for pj in sorted_pj_names:\n",
    "            seg_dict = dict(times_per_segment_per_project[pj])\n",
    "            if i in seg_dict and len(seg_dict[i]) > min_count:\n",
    "                row_vals.append(np.mean(seg_dict[i]))\n",
    "            else:\n",
    "                row_vals.append(None)\n",
    "        out.write(u', '.join([str(val) for val in row_vals]) + '\\n') "
   ]
  },
  {
   "cell_type": "code",
   "execution_count": null,
   "metadata": {
    "collapsed": true
   },
   "outputs": [],
   "source": [
    "min_count = 5\n",
    "\n",
    "with open('average_distance_per_autocomplete_project.csv', 'w') as out:\n",
    "    sorted_pj_names = [doc['name'] for doc in autocomplete_projects]\n",
    "    out.write(u', '.join(sorted_pj_names) + '\\n')\n",
    "    max_row_idx = max(r_id for pj in sorted_pj_names for r_id in distance_per_segment_per_project[pj].keys())\n",
    "    for i in range(max_row_idx):\n",
    "        row_vals = []\n",
    "        for pj in sorted_pj_names:\n",
    "            seg_dict = dict(distance_per_segment_per_project[pj])\n",
    "            if i in seg_dict and len(seg_dict[i]) > min_count:\n",
    "                row_vals.append(np.mean(seg_dict[i]))\n",
    "            else:\n",
    "                row_vals.append(None)\n",
    "        out.write(u', '.join([str(val) for val in row_vals]) + '\\n') "
   ]
  },
  {
   "cell_type": "code",
   "execution_count": null,
   "metadata": {
    "collapsed": true
   },
   "outputs": [],
   "source": [
    "average_project_distance = []\n",
    "for pj, distances in distance_per_segment_per_project.items():\n",
    "    avg_distance = np.mean([dis for idx, distance in distances.items() for dis in distance])\n",
    "    average_project_distance.append((pj, avg_distance))"
   ]
  },
  {
   "cell_type": "code",
   "execution_count": null,
   "metadata": {
    "collapsed": false
   },
   "outputs": [],
   "source": [
    "average_project_time = []\n",
    "for pj, times in times_per_segment_per_project.items():\n",
    "    avg_time = np.mean([t for idx, time in times.items() for t in time])\n",
    "    average_project_time.append((pj, avg_time))"
   ]
  },
  {
   "cell_type": "code",
   "execution_count": null,
   "metadata": {
    "collapsed": false
   },
   "outputs": [],
   "source": [
    "post_editor_project_names = {doc['name']:doc['internalName'] for doc in post_editor_projects}\n",
    "autocomplete_project_names = {doc['name']:doc['internalName'] for doc in autocomplete_projects}\n",
    "project_name_map = {doc['name']:doc['internalName'] for doc in document_configs}"
   ]
  },
  {
   "cell_type": "code",
   "execution_count": null,
   "metadata": {
    "collapsed": false
   },
   "outputs": [],
   "source": [
    "# get posteditor actions per project\n",
    "pe_sessions = {k:v for k,v in sessions_by_project.items() if k in post_editor_project_names.keys()}\n",
    "actions_per_segment_per_project = {}\n",
    "for project_id, sessions in pe_sessions.items():\n",
    "    actions_per_segment_per_project[project_id] = defaultdict(list)\n",
    "    for session in sessions:\n",
    "        segment_actions = get_editing_actions_per_segment(session['segments'])\n",
    "        for seg_id, actions in segment_actions:\n",
    "            for action,count in actions.items():\n",
    "                if 'postEditor' not in action:\n",
    "                    del actions[action]\n",
    "            actions_per_segment_per_project[project_id][seg_id].append(actions)"
   ]
  },
  {
   "cell_type": "code",
   "execution_count": null,
   "metadata": {
    "collapsed": false
   },
   "outputs": [],
   "source": [
    "import numpy as np\n",
    "\n",
    "avg_actions_per_segment_per_project = {}\n",
    "for project, segments in actions_per_segment_per_project.items():\n",
    "    avg_actions_per_segment = {}\n",
    "    for seg_id, action_counts in segments.items():\n",
    "        action_sums = sum(action_counts, Counter())\n",
    "        action_means = {k: count/float(len(action_counts)) for k, count in action_sums.items()}\n",
    "        avg_actions_per_segment[seg_id] = action_means\n",
    "    avg_actions_per_segment_per_project[post_editor_project_names[project]] = avg_actions_per_segment\n"
   ]
  },
  {
   "cell_type": "code",
   "execution_count": null,
   "metadata": {
    "collapsed": true
   },
   "outputs": [],
   "source": [
    "import numpy as np\n",
    "\n",
    "avg_actions_per_project = {}\n",
    "action_counts_per_project = {}\n",
    "raw_action_counts = []\n",
    "for project, segments in actions_per_segment_per_project.items():\n",
    "    all_actions = []\n",
    "    for seg_id, action_counts in segments.items():\n",
    "        all_actions.extend(action_counts)\n",
    "        raw_action_counts.extend(action_counts)\n",
    "    project_action_sums = sum(all_actions, Counter())\n",
    "    project_action_means = {k: v / float(len(all_actions)) for k,v in project_action_sums.items()}\n",
    "\n",
    "    avg_actions_per_project[post_editor_project_names[project]] = project_action_means\n",
    "    action_counts_per_project[post_editor_project_names[project]] = project_action_sums\n",
    "    \n",
    "\n",
    "global_sum = sum(raw_action_counts, Counter())\n",
    "global_mean = {k: v / float(len(raw_action_counts)) for k,v in global_sum.items()}"
   ]
  },
  {
   "cell_type": "code",
   "execution_count": null,
   "metadata": {
    "collapsed": false
   },
   "outputs": [],
   "source": [
    "global_sum"
   ]
  },
  {
   "cell_type": "code",
   "execution_count": null,
   "metadata": {
    "collapsed": false
   },
   "outputs": [],
   "source": [
    "global_mean"
   ]
  },
  {
   "cell_type": "code",
   "execution_count": null,
   "metadata": {
    "collapsed": false
   },
   "outputs": [],
   "source": [
    "avg_actions_per_project"
   ]
  },
  {
   "cell_type": "code",
   "execution_count": null,
   "metadata": {
    "collapsed": true
   },
   "outputs": [],
   "source": [
    "with open('average_actions_per_postediting_project.csv', 'w') as out:\n",
    "    sorted_pj_names = sorted(avg_actions_per_project.keys())\n",
    "    out.write('{}, {}, {}, {}, {}\\n'.format('Project Name', 'insert', 'delete', 'move', 'replace'))\n",
    "    for pj in sorted_pj_names:\n",
    "        seg_actions = avg_actions_per_project[pj]\n",
    "        out.write('{}, {}, {}, {}, {}\\n'.format(pj,\n",
    "                                                seg_actions.get('postEditor.insert', 0.),\n",
    "                                                seg_actions.get('postEditor.delete', 0.),\n",
    "                                                seg_actions.get('postEditor.move', 0.),\n",
    "                                                seg_actions.get('postEditor.replace', 0.)\n",
    "                                                ))"
   ]
  },
  {
   "cell_type": "code",
   "execution_count": null,
   "metadata": {
    "collapsed": true
   },
   "outputs": [],
   "source": [
    "with open('action_counts_per_postediting_project.csv', 'w') as out:\n",
    "    sorted_pj_names = sorted(action_counts_per_project.keys())\n",
    "    out.write('{}, {}, {}, {}, {}\\n'.format('Project Name', 'insert', 'delete', 'move', 'replace'))\n",
    "    for pj in sorted_pj_names:\n",
    "        seg_actions = action_counts_per_project[pj]\n",
    "        out.write('{}, {}, {}, {}, {}\\n'.format(pj,\n",
    "                                                seg_actions.get('postEditor.insert', 0.),\n",
    "                                                seg_actions.get('postEditor.delete', 0.),\n",
    "                                                seg_actions.get('postEditor.move', 0.),\n",
    "                                                seg_actions.get('postEditor.replace', 0.)\n",
    "                                                ))"
   ]
  },
  {
   "cell_type": "code",
   "execution_count": null,
   "metadata": {
    "collapsed": true
   },
   "outputs": [],
   "source": [
    "# Global action counts\n",
    "all_counts = []\n",
    "for pj, counts in action_counts_per_project.items():\n",
    "    all_counts.append(counts)\n",
    "    global_counts = "
   ]
  },
  {
   "cell_type": "code",
   "execution_count": null,
   "metadata": {
    "collapsed": false
   },
   "outputs": [],
   "source": [
    "with open('average_actions_per_segment_per_postediting_project.csv', 'w') as out:\n",
    "    sorted_pj_names = sorted(avg_actions_per_segment_per_project.keys())\n",
    "    for pj in sorted_pj_names:\n",
    "        out.write('Project Name: {}\\n'.format(pj))\n",
    "        out.write('{}, {}, {}, {}, {}\\n'.format('Segment Index', 'insert', 'delete', 'move', 'replace'))\n",
    "        for i in range(max(r_id for r_id in avg_actions_per_segment_per_project[pj].keys())):\n",
    "            seg_actions = avg_actions_per_segment_per_project[pj][i]\n",
    "            out.write('{}, {}, {}, {}, {}\\n'.format(i,\n",
    "                                                    seg_actions.get('postEditor.insert', 0.),\n",
    "                                                    seg_actions.get('postEditor.delete', 0.),\n",
    "                                                    seg_actions.get('postEditor.move', 0.),\n",
    "                                                    seg_actions.get('postEditor.replace', 0.)\n",
    "                                                   ))\n",
    "        out.write('\\n') "
   ]
  },
  {
   "cell_type": "code",
   "execution_count": null,
   "metadata": {
    "collapsed": false
   },
   "outputs": [],
   "source": [
    "actions_per_segment_per_project"
   ]
  },
  {
   "cell_type": "code",
   "execution_count": null,
   "metadata": {
    "collapsed": false
   },
   "outputs": [],
   "source": [
    "avg_posteditor_time = np.mean([v for k,v in average_project_time if k in post_editor_project_names.keys()])\n",
    "avg_autocomplete_time = np.mean([v for k,v in average_project_time if k in autocomplete_project_names.keys()])"
   ]
  },
  {
   "cell_type": "code",
   "execution_count": null,
   "metadata": {
    "collapsed": false
   },
   "outputs": [],
   "source": [
    "avg_posteditor_distance = np.mean([v for k,v in average_project_distance if k in post_editor_project_names.keys()])\n",
    "avg_autocomplete_distance = np.mean([v for k,v in average_project_distance if k in autocomplete_project_names.keys()])"
   ]
  },
  {
   "cell_type": "code",
   "execution_count": null,
   "metadata": {
    "collapsed": false
   },
   "outputs": [],
   "source": [
    "print('Global avg time in post editor mode: {}, global avg time in autocomplete mode: {}'.format(avg_posteditor_time, avg_autocomplete_time))\n",
    "print('Global avg distance in post editor mode: {}, global avg distance in autocomplete mode: {}'.format(avg_posteditor_distance, avg_autocomplete_distance))"
   ]
  },
  {
   "cell_type": "code",
   "execution_count": null,
   "metadata": {
    "collapsed": true
   },
   "outputs": [],
   "source": [
    "avg_time_internal_ids = [(k, project_name_map[k], v) for k,v in average_project_time]\n",
    "avg_time_internal_ids = sorted(avg_time_internal_ids, key=lambda x: x[1])\n",
    "\n",
    "avg_distance_internal_ids = [(k, project_name_map[k], v) for k,v in average_project_distance]\n",
    "avg_distance_internal_ids = sorted(avg_distance_internal_ids, key=lambda x: x[1])"
   ]
  },
  {
   "cell_type": "code",
   "execution_count": null,
   "metadata": {
    "collapsed": true
   },
   "outputs": [],
   "source": [
    "with open('avg_distance_by_project.csv', 'w') as out:\n",
    "    out.write('Actual Name, Internal Name, Average Distance\\n')\n",
    "    for internal, actual, avg_distance in avg_distance_internal_ids:\n",
    "        out.write('{}, {}, {}\\n'.format(actual, internal, avg_distance))"
   ]
  },
  {
   "cell_type": "code",
   "execution_count": null,
   "metadata": {
    "collapsed": true
   },
   "outputs": [],
   "source": [
    "with open('avg_time_by_project.csv', 'w') as out:\n",
    "    out.write('Actual Name, Internal Name, Average Time\\n')\n",
    "    for internal, actual, avg_time in avg_time_internal_ids:\n",
    "        out.write('{}, {}, {}\\n'.format(actual, internal, avg_time))"
   ]
  },
  {
   "cell_type": "code",
   "execution_count": null,
   "metadata": {
    "collapsed": false
   },
   "outputs": [],
   "source": [
    "avg_time_internal_ids[]"
   ]
  },
  {
   "cell_type": "code",
   "execution_count": null,
   "metadata": {
    "collapsed": false
   },
   "outputs": [],
   "source": [
    "avg_autocomplete_time"
   ]
  },
  {
   "cell_type": "code",
   "execution_count": null,
   "metadata": {
    "collapsed": false
   },
   "outputs": [],
   "source": [
    "avg_posteditor_time"
   ]
  },
  {
   "cell_type": "code",
   "execution_count": null,
   "metadata": {
    "collapsed": true
   },
   "outputs": [],
   "source": [
    "# diff per segment\n",
    "# action preferences\n",
    "post_editor_projects = "
   ]
  },
  {
   "cell_type": "code",
   "execution_count": null,
   "metadata": {
    "collapsed": true
   },
   "outputs": [],
   "source": []
  },
  {
   "cell_type": "code",
   "execution_count": null,
   "metadata": {
    "collapsed": true
   },
   "outputs": [],
   "source": [
    "hyp = ['this', 'is', 'a', 'party']\n",
    "ref = ['this', 'was', 'a', 'nice', 'day']\n",
    "matcher = difflib.SequenceMatcher(isjunk=None, a=hyp, b=ref)\n",
    "print(matcher.ratio())\n",
    "for tag, i1, i2, j1, j2 in reversed(matcher.get_opcodes()):\n",
    "\n",
    "    if tag == 'delete':\n",
    "        print 'Remove {} from positions [{}:{}]'.format(hyp[i1:i2], i1, i2)\n",
    "        del hyp[i1:i2]\n",
    "\n",
    "    elif tag == 'equal':\n",
    "        print 'The sections [{}:{}] of hyp and [{}:{}] of ref are the same'.format(i1, i2, j1, j2)\n",
    "\n",
    "    elif tag == 'insert':\n",
    "        print 'Insert {} from [{}:{}] of ref into hyp at {}'.format(ref[j1:j2], j1, j2, i1)\n",
    "        hyp[i1:i2] = ref[j1:j2]\n",
    "\n",
    "    elif tag == 'replace':\n",
    "        print 'Replace {} from [{}:{}] of hyp with {} from [{}:{}] of ref'.format(hyp[i1:i2], i1, i2, ref[j1:j2], j1, j2)\n",
    "        hyp[i1:i2] = ref[j1:j2]\n",
    "\n",
    "    print 'hyp =', hyp\n",
    "    print 'ref =', ref\n",
    "    print\n",
    "\n",
    "print 'hyp == ref:', hyp==ref"
   ]
  },
  {
   "cell_type": "code",
   "execution_count": null,
   "metadata": {
    "collapsed": false
   },
   "outputs": [],
   "source": [
    "\n",
    "s1 = [ 1, 2, 3, 5, 6, 4 ]\n",
    "s2 = [ 2, 3, 5, 4, 6, 1 ]\n",
    "\n",
    "print 'Initial data:'\n",
    "print 's1 =', s1\n",
    "print 's2 =', s2\n",
    "print 's1 == s2:', s1==s2\n",
    "print\n",
    "\n",
    "matcher = difflib.SequenceMatcher(None, s1, s2)\n",
    "for tag, i1, i2, j1, j2 in reversed(matcher.get_opcodes()):\n",
    "\n",
    "    if tag == 'delete':\n",
    "        print 'Remove %s from positions [%d:%d]' % (s1[i1:i2], i1, i2)\n",
    "        del s1[i1:i2]\n",
    "\n",
    "    elif tag == 'equal':\n",
    "        print 'The sections [%d:%d] of s1 and [%d:%d] of s2 are the same' % \\\n",
    "            (i1, i2, j1, j2)\n",
    "\n",
    "    elif tag == 'insert':\n",
    "        print 'Insert %s from [%d:%d] of s2 into s1 at %d' % \\\n",
    "            (s2[j1:j2], j1, j2, i1)\n",
    "        s1[i1:i2] = s2[j1:j2]\n",
    "\n",
    "    elif tag == 'replace':\n",
    "        print 'Replace %s from [%d:%d] of s1 with %s from [%d:%d] of s2' % (\n",
    "            s1[i1:i2], i1, i2, s2[j1:j2], j1, j2)\n",
    "        s1[i1:i2] = s2[j1:j2]\n",
    "\n",
    "    print 's1 =', s1\n",
    "    print 's2 =', s2\n",
    "    print\n",
    "\n",
    "print 's1 == s2:', s1==s2"
   ]
  }
 ],
 "metadata": {
  "kernelspec": {
   "display_name": "Python 2",
   "language": "python",
   "name": "python2"
  },
  "language_info": {
   "codemirror_mode": {
    "name": "ipython",
    "version": 2
   },
   "file_extension": ".py",
   "mimetype": "text/x-python",
   "name": "python",
   "nbconvert_exporter": "python",
   "pygments_lexer": "ipython2",
   "version": "2.7.12"
  }
 },
 "nbformat": 4,
 "nbformat_minor": 0
}
