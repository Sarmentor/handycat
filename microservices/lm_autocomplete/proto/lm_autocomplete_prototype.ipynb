{
 "cells": [
  {
   "cell_type": "code",
   "execution_count": 1,
   "metadata": {
    "collapsed": false
   },
   "outputs": [],
   "source": [
    "from __future__ import division, print_function\n",
    "import numpy as np\n",
    "import codecs\n",
    "import re\n",
    "\n",
    "%load_ext autoreload\n",
    "%autoreload 2"
   ]
  },
  {
   "cell_type": "code",
   "execution_count": 31,
   "metadata": {
    "collapsed": false
   },
   "outputs": [],
   "source": [
    "from lm_autocomplete.phrase_table.parsers.moses_triple_pipe_parser import MosesTriplePipeParser\n",
    "from lm_autocomplete.phrase_table.in_memory_phrase_table import InMemoryPhraseTable\n",
    "\n",
    "phrase_table_file = '/home/chris/projects/maxent_decoder/phrase_table/filtered_phrase_table'\n",
    "parser = MosesTriplePipeParser()\n",
    "phrase_objects = parser.parse(phrase_table_file)\n",
    "\n",
    "pt_cutoff = 4\n",
    "phrase_table = InMemoryPhraseTable(phrase_objects, cutoff=pt_cutoff)"
   ]
  },
  {
   "cell_type": "code",
   "execution_count": 44,
   "metadata": {
    "collapsed": false
   },
   "outputs": [
    {
     "name": "stdout",
     "output_type": "stream",
     "text": [
      "lmsi\n",
      "[{'lang_code': 'en', 'phrase_tables': {('de', 'en'): <lm_autocomplete.phrase_table.in_memory_phrase_table.InMemoryPhraseTable object at 0x7f8a8e2d9fd0>}, 'srilm_lm_file': '/home/chris/projects/maxent_decoder/lm/europarl.srilm.gz'}]\n",
      "loop\n",
      "language model servers init\n"
     ]
    }
   ],
   "source": [
    "# WORKING - test usage of the lm autocomplete lib\n",
    "from lm_autocomplete.language_model_autocompleter import LanguageModelAutocompleter\n",
    "\n",
    "# language_models are [{'lang_code': <lang_code>, 'srilm_lm_file': <srilm_lm_file>,\n",
    "# 'phrase_tables': {(source_lang, target_lang): phrase_table}]\n",
    "\n",
    "language_models = [\n",
    "    {\n",
    "        'lang_code': 'en',\n",
    "        'srilm_lm_file': '/home/chris/projects/maxent_decoder/lm/europarl.srilm.gz',\n",
    "        'phrase_tables': {\n",
    "            ('de', 'en'): de_en_phrase_table\n",
    "        }\n",
    "    }\n",
    "]\n",
    "\n",
    "lm_autocompleter = LanguageModelAutocompleter(language_models=language_models)"
   ]
  },
  {
   "cell_type": "code",
   "execution_count": 45,
   "metadata": {
    "collapsed": true
   },
   "outputs": [],
   "source": [
    "# assume that the target prefix and the source have already been segmented\n",
    "target_prefix = [u'that', u'is']\n",
    "source_segment = [u'Dies', u'ist', u'falsch', u'.']"
   ]
  },
  {
   "cell_type": "code",
   "execution_count": 46,
   "metadata": {
    "collapsed": false
   },
   "outputs": [
    {
     "name": "stdout",
     "output_type": "stream",
     "text": [
      "['en']\n"
     ]
    }
   ],
   "source": [
    "print(lm_autocompleter.language_model_servers.keys())"
   ]
  },
  {
   "cell_type": "code",
   "execution_count": 47,
   "metadata": {
    "collapsed": false
   },
   "outputs": [
    {
     "name": "stdout",
     "output_type": "stream",
     "text": [
      "that is that\n",
      "\tp( that | <s> ) \t=  0.0276599 [ -1.55815 ]\n",
      "\tp( is | that ...) \t=  0.605759 [ -0.2177 ]\n",
      "\tp( that | is ...) \t=  0.00387909 [ -2.41127 ]\n",
      "\tp( </s> | that ...) \t=  4.8979e-05 [ -4.30999 ]\n",
      "1 sentences, 3 words, 0 OOVs\n",
      "0 zeroprobs, logprob= -8.49711 ppl= 133.13 ppl1= 679.782\n",
      "\n",
      "that is this\n",
      "\tp( that | <s> ) \t=  0.0276599 [ -1.55815 ]\n",
      "\tp( is | that ...) \t=  0.605759 [ -0.2177 ]\n",
      "\tp( this | is ...) \t=  0.00037145 [ -3.4301 ]\n",
      "\tp( </s> | this ...) \t=  0.000121289 [ -3.91618 ]\n",
      "1 sentences, 3 words, 0 OOVs\n",
      "0 zeroprobs, logprob= -9.12213 ppl= 190.78 ppl1= 1098.27\n",
      "\n",
      "that is this\n",
      "\tp( that | <s> ) \t=  0.0276599 [ -1.55815 ]\n",
      "\tp( is | that ...) \t=  0.605759 [ -0.2177 ]\n",
      "\tp( this | is ...) \t=  0.00037145 [ -3.4301 ]\n",
      "\tp( </s> | this ...) \t=  0.000121289 [ -3.91618 ]\n",
      "1 sentences, 3 words, 0 OOVs\n",
      "0 zeroprobs, logprob= -9.12213 ppl= 190.78 ppl1= 1098.27\n",
      "\n",
      "that is are\n",
      "\tp( that | <s> ) \t=  0.0276599 [ -1.55815 ]\n",
      "\tp( is | that ...) \t=  0.605759 [ -0.2177 ]\n",
      "\tp( are | is ...) \t=  6.31495e-05 [ -4.19963 ]\n",
      "\tp( </s> | are ...) \t=  0.000299723 [ -3.52328 ]\n",
      "1 sentences, 3 words, 0 OOVs\n",
      "0 zeroprobs, logprob= -9.49876 ppl= 236.968 ppl1= 1466.4\n",
      "\n",
      "that is has\n",
      "\tp( that | <s> ) \t=  0.0276599 [ -1.55815 ]\n",
      "\tp( is | that ...) \t=  0.605759 [ -0.2177 ]\n",
      "\tp( has | is ...) \t=  6.00302e-05 [ -4.22163 ]\n",
      "\tp( </s> | has ...) \t=  0.000200124 [ -3.6987 ]\n",
      "1 sentences, 3 words, 0 OOVs\n",
      "0 zeroprobs, logprob= -9.69618 ppl= 265.488 ppl1= 1706.32\n",
      "\n",
      "that is ,\n",
      "\tp( that | <s> ) \t=  0.0276599 [ -1.55815 ]\n",
      "\tp( is | that ...) \t=  0.605759 [ -0.2177 ]\n",
      "\tp( , | is ...) \t=  0.0223517 [ -1.65069 ]\n",
      "\tp( </s> | , ...) \t=  6.59098e-05 [ -4.18105 ]\n",
      "1 sentences, 3 words, 0 OOVs\n",
      "0 zeroprobs, logprob= -7.60759 ppl= 79.7806 ppl1= 343.45\n",
      "\n",
      "that is is\n",
      "\tp( that | <s> ) \t=  0.0276599 [ -1.55815 ]\n",
      "\tp( is | that ...) \t=  0.605759 [ -0.2177 ]\n",
      "\tp( is | is ...) \t=  0.000100032 [ -3.99986 ]\n",
      "\tp( </s> | is ...) \t=  0.000213595 [ -3.67041 ]\n",
      "1 sentences, 3 words, 0 OOVs\n",
      "0 zeroprobs, logprob= -9.44612 ppl= 229.895 ppl1= 1408.34\n",
      "\n",
      "that is mistake\n",
      "\tp( that | <s> ) \t=  0.0276599 [ -1.55815 ]\n",
      "\tp( is | that ...) \t=  0.605759 [ -0.2177 ]\n",
      "\tp( mistake | is ...) \t=  9.8306e-07 [ -6.00742 ]\n",
      "\tp( </s> | mistake ...) \t=  0.000567636 [ -3.24593 ]\n",
      "1 sentences, 3 words, 0 OOVs\n",
      "0 zeroprobs, logprob= -11.0292 ppl= 571.874 ppl1= 4746.79\n",
      "\n",
      "that is mistaken\n",
      "\tp( that | <s> ) \t=  0.0276599 [ -1.55815 ]\n",
      "\tp( is | that ...) \t=  0.605759 [ -0.2177 ]\n",
      "\tp( mistaken | is ...) \t=  3.03103e-05 [ -4.51841 ]\n",
      "\tp( </s> | mistaken ...) \t=  0.000412886 [ -3.38417 ]\n",
      "1 sentences, 3 words, 0 OOVs\n",
      "0 zeroprobs, logprob= -9.67843 ppl= 262.789 ppl1= 1683.23\n",
      "\n",
      "that is false\n",
      "\tp( that | <s> ) \t=  0.0276599 [ -1.55815 ]\n",
      "\tp( is | that ...) \t=  0.605759 [ -0.2177 ]\n",
      "\tp( false | is ...) \t=  2.15576e-05 [ -4.6664 ]\n",
      "\tp( </s> | false ...) \t=  0.000361918 [ -3.44139 ]\n",
      "1 sentences, 3 words, 0 OOVs\n",
      "0 zeroprobs, logprob= -9.88364 ppl= 295.74 ppl1= 1970.36\n",
      "\n",
      "that is wrong\n",
      "\tp( that | <s> ) \t=  0.0276599 [ -1.55815 ]\n",
      "\tp( is | that ...) \t=  0.605759 [ -0.2177 ]\n",
      "\tp( wrong | is ...) \t=  0.00204489 [ -2.68933 ]\n",
      "\tp( </s> | wrong ...) \t=  0.000104496 [ -3.9809 ]\n",
      "1 sentences, 3 words, 0 OOVs\n",
      "0 zeroprobs, logprob= -8.44608 ppl= 129.277 ppl1= 653.672\n",
      "\n",
      "that is , and\n",
      "\tp( that | <s> ) \t=  0.0276599 [ -1.55815 ]\n",
      "\tp( is | that ...) \t=  0.605759 [ -0.2177 ]\n",
      "\tp( , | is ...) \t=  0.0223517 [ -1.65069 ]\n",
      "\tp( and | , ...) \t=  0.0314007 [ -1.50306 ]\n",
      "\tp( </s> | and ...) \t=  0.000109217 [ -3.96171 ]\n",
      "1 sentences, 4 words, 0 OOVs\n",
      "0 zeroprobs, logprob= -8.89131 ppl= 60.0153 ppl1= 167.043\n",
      "\n",
      "that is ;\n",
      "\tp( that | <s> ) \t=  0.0276599 [ -1.55815 ]\n",
      "\tp( is | that ...) \t=  0.605759 [ -0.2177 ]\n",
      "\tp( ; | is ...) \t=  2.36233e-05 [ -4.62666 ]\n",
      "\tp( </s> | ; ...) \t=  0.0787862 [ -1.10355 ]\n",
      "1 sentences, 3 words, 0 OOVs\n",
      "0 zeroprobs, logprob= -7.50606 ppl= 75.2515 ppl1= 317.702\n",
      "\n",
      "that is ,\n",
      "\tp( that | <s> ) \t=  0.0276599 [ -1.55815 ]\n",
      "\tp( is | that ...) \t=  0.605759 [ -0.2177 ]\n",
      "\tp( , | is ...) \t=  0.0223517 [ -1.65069 ]\n",
      "\tp( </s> | , ...) \t=  6.59098e-05 [ -4.18105 ]\n",
      "1 sentences, 3 words, 0 OOVs\n",
      "0 zeroprobs, logprob= -7.60759 ppl= 79.7806 ppl1= 343.45\n",
      "\n",
      "that is .\n",
      "\tp( that | <s> ) \t=  0.0276599 [ -1.55815 ]\n",
      "\tp( is | that ...) \t=  0.605759 [ -0.2177 ]\n",
      "\tp( . | is ...) \t=  0.00165829 [ -2.78034 ]\n",
      "\tp( </s> | . ...) \t=  0.992429 [ -0.00330041 ]\n",
      "1 sentences, 3 words, 0 OOVs\n",
      "0 zeroprobs, logprob= -4.55949 ppl= 13.7998 ppl1= 33.1002\n",
      "\n",
      "that is this is\n",
      "\tp( that | <s> ) \t=  0.0276599 [ -1.55815 ]\n",
      "\tp( is | that ...) \t=  0.605759 [ -0.2177 ]\n",
      "\tp( this | is ...) \t=  0.00037145 [ -3.4301 ]\n",
      "\tp( is | this ...) \t=  0.00503176 [ -2.29828 ]\n",
      "\tp( </s> | is ...) \t=  1.86114e-05 [ -4.73022 ]\n",
      "1 sentences, 4 words, 0 OOVs\n",
      "0 zeroprobs, logprob= -12.2344 ppl= 279.827 ppl1= 1144.49\n",
      "\n",
      "that is is wrong\n",
      "\tp( that | <s> ) \t=  0.0276599 [ -1.55815 ]\n",
      "\tp( is | that ...) \t=  0.605759 [ -0.2177 ]\n",
      "\tp( is | is ...) \t=  0.000100032 [ -3.99986 ]\n",
      "\tp( wrong | is ...) \t=  0.00149224 [ -2.82616 ]\n",
      "\tp( </s> | wrong ...) \t=  0.000104496 [ -3.9809 ]\n",
      "1 sentences, 4 words, 0 OOVs\n",
      "0 zeroprobs, logprob= -12.5828 ppl= 328.514 ppl1= 1398.6\n",
      "\n",
      "that is flawed .\n",
      "\tp( that | <s> ) \t=  0.0276599 [ -1.55815 ]\n",
      "\tp( is | that ...) \t=  0.605759 [ -0.2177 ]\n",
      "\tp( flawed | is ...) \t=  5.23866e-06 [ -5.28078 ]\n",
      "\tp( . | flawed ...) \t=  0.302624 [ -0.519097 ]\n",
      "\tp( </s> | . ...) \t=  0.97902 [ -0.00920831 ]\n",
      "1 sentences, 4 words, 0 OOVs\n",
      "0 zeroprobs, logprob= -7.58494 ppl= 32.8842 ppl1= 78.747\n",
      "\n",
      "that is mistaken .\n",
      "\tp( that | <s> ) \t=  0.0276599 [ -1.55815 ]\n",
      "\tp( is | that ...) \t=  0.605759 [ -0.2177 ]\n",
      "\tp( mistaken | is ...) \t=  3.03103e-05 [ -4.51841 ]\n",
      "\tp( . | mistaken ...) \t=  0.456523 [ -0.340537 ]\n",
      "\tp( </s> | . ...) \t=  0.975126 [ -0.0109394 ]\n",
      "1 sentences, 4 words, 0 OOVs\n",
      "0 zeroprobs, logprob= -6.64574 ppl= 21.3377 ppl1= 45.86\n",
      "\n",
      "that is false .\n",
      "\tp( that | <s> ) \t=  0.0276599 [ -1.55815 ]\n",
      "\tp( is | that ...) \t=  0.605759 [ -0.2177 ]\n",
      "\tp( false | is ...) \t=  2.15576e-05 [ -4.6664 ]\n",
      "\tp( . | false ...) \t=  0.613426 [ -0.212238 ]\n",
      "\tp( </s> | . ...) \t=  0.983516 [ -0.0072186 ]\n",
      "1 sentences, 4 words, 0 OOVs\n",
      "0 zeroprobs, logprob= -6.66171 ppl= 21.4952 ppl1= 46.2835\n",
      "\n",
      "that is wrong .\n",
      "\tp( that | <s> ) \t=  0.0276599 [ -1.55815 ]\n",
      "\tp( is | that ...) \t=  0.605759 [ -0.2177 ]\n",
      "\tp( wrong | is ...) \t=  0.00204489 [ -2.68933 ]\n",
      "\tp( . | wrong ...) \t=  0.277971 [ -0.556001 ]\n",
      "\tp( </s> | . ...) \t=  0.992441 [ -0.00329525 ]\n",
      "1 sentences, 4 words, 0 OOVs\n",
      "0 zeroprobs, logprob= -5.02448 ppl= 10.1134 ppl1= 18.0351\n",
      "\n",
      "file cands.tmp: 21 sentences, 70 words, 0 OOVs\n",
      "0 zeroprobs, logprob= -181.326 ppl= 98.3088 ppl1= 389.377\n",
      "\n",
      "server 6090@localhost: probserver ready\n",
      "\n",
      "[-8.49711, -9.12213, -9.12213, -9.49876, -9.69618, -7.60759, -9.44612, -11.0292, -9.67843, -9.88364, -8.44608, -8.89131, -7.50606, -7.60759, -4.55949, -12.2344, -12.5828, -7.58494, -6.64574, -6.66171, -5.02448]\n",
      "[u'That', u'this', u'This', u'are', u'has', u',', u'is', u'mistake', u'mistaken', u'false', u'wrong', u', and', u';', u',', u'.', u'This is', u'is wrong', u'flawed .', u'mistaken .', u'false .', u'wrong .']\n"
     ]
    },
    {
     "data": {
      "text/plain": [
       "[(u'.', -4.55949),\n",
       " (u'wrong .', -5.02448),\n",
       " (u'mistaken .', -6.64574),\n",
       " (u'false .', -6.66171),\n",
       " (u';', -7.50606),\n",
       " (u'flawed .', -7.58494),\n",
       " (u',', -7.60759),\n",
       " (u',', -7.60759),\n",
       " (u'wrong', -8.44608),\n",
       " (u'That', -8.49711),\n",
       " (u', and', -8.89131),\n",
       " (u'this', -9.12213),\n",
       " (u'This', -9.12213),\n",
       " (u'is', -9.44612),\n",
       " (u'are', -9.49876),\n",
       " (u'mistaken', -9.67843),\n",
       " (u'has', -9.69618),\n",
       " (u'false', -9.88364),\n",
       " (u'mistake', -11.0292),\n",
       " (u'This is', -12.2344),\n",
       " (u'is wrong', -12.5828)]"
      ]
     },
     "execution_count": 47,
     "metadata": {},
     "output_type": "execute_result"
    }
   ],
   "source": [
    "#     def get_ranked_completions(self, source_lang, target_lang, source_tokens=[], target_prefix=[]):?\n",
    "lm_autocompleter.get_ranked_completions('de', 'en', source_tokens=source_segment, target_prefix=target_prefix)"
   ]
  },
  {
   "cell_type": "code",
   "execution_count": 53,
   "metadata": {
    "collapsed": true
   },
   "outputs": [],
   "source": [
    "def extract_phrases(tokens, max_len=2):\n",
    "    phrase_list = []\n",
    "    for i in range(1, min(len(tokens)+1, max_len+1)):\n",
    "        phrase_list.extend([tokens[j:j+i] for j in range(len(tokens)-i+1)])\n",
    "    return phrase_list"
   ]
  },
  {
   "cell_type": "code",
   "execution_count": 3,
   "metadata": {
    "collapsed": true
   },
   "outputs": [],
   "source": [
    "# Create the in-memory phrase table\n",
    "from interactive_decoding.phrase_table.parsers.moses_triple_pipe_parser import MosesTriplePipeParser\n",
    "phrase_table_file = '/home/chris/projects/maxent_decoder/phrase_table/filtered_phrase_table'\n",
    "parser = MosesTriplePipeParser()\n",
    "phrase_objects = parser.parse(phrase_table_file)"
   ]
  },
  {
   "cell_type": "code",
   "execution_count": 54,
   "metadata": {
    "collapsed": true
   },
   "outputs": [],
   "source": [
    "from interactive_decoding.phrase_table.in_memory_phrase_table import InMemoryPhraseTable\n",
    "\n",
    "pt_cutoff = 4\n",
    "phrase_table = InMemoryPhraseTable(phrase_objects, cutoff=pt_cutoff)"
   ]
  },
  {
   "cell_type": "code",
   "execution_count": 59,
   "metadata": {
    "collapsed": false
   },
   "outputs": [],
   "source": [
    "# assume that the target prefix and the source have already been segmented\n",
    "target_prefix = [u'that', u'is']\n",
    "source_segment = [u'Dies', u'ist', u'falsch', u'.']\n",
    "\n",
    "source_phrases = extract_phrases(source_segment)\n",
    "target_lm_candidates = [cand['target'] for phrase in source_phrases for cand in phrase_table.get_target_phrases(phrase)]\n",
    "# reference\n",
    "# target = [u'That', u'is', u'wrong', u'.']"
   ]
  },
  {
   "cell_type": "code",
   "execution_count": 60,
   "metadata": {
    "collapsed": false
   },
   "outputs": [
    {
     "data": {
      "text/plain": [
       "[u'That',\n",
       " u'this',\n",
       " u'This',\n",
       " u'are',\n",
       " u'has',\n",
       " u',',\n",
       " u'is',\n",
       " u'mistake',\n",
       " u'mistaken',\n",
       " u'false',\n",
       " u'wrong',\n",
       " u', and',\n",
       " u';',\n",
       " u',',\n",
       " u'.',\n",
       " u'This is',\n",
       " u'is wrong',\n",
       " u'flawed .',\n",
       " u'mistaken .',\n",
       " u'false .',\n",
       " u'wrong .']"
      ]
     },
     "execution_count": 60,
     "metadata": {},
     "output_type": "execute_result"
    }
   ],
   "source": [
    "len(target_lm_candidates)\n",
    "target_lm_candidates"
   ]
  },
  {
   "cell_type": "code",
   "execution_count": 61,
   "metadata": {
    "collapsed": true
   },
   "outputs": [],
   "source": [
    "import subprocess"
   ]
  },
  {
   "cell_type": "code",
   "execution_count": 62,
   "metadata": {
    "collapsed": false
   },
   "outputs": [],
   "source": [
    "# run the srilm language model server\n",
    "lm_location = '/home/chris/projects/maxent_decoder/lm/europarl.srilm.gz'\n",
    "# running the srilm server with a text file:\n",
    "# ngram -server-port 6070 -lm <lm-name>\n",
    "start_server_command = \"ngram -server-port 6070 -lm {}\".format(lm_location)\n",
    "\n",
    "ngram_server_log = codecs.open('srilm_ngram_server_log', 'w', encoding='utf8')\n",
    "# server_output, server_error = subprocess.Popen(\n",
    "#     start_server_command.split(), stdout=ngram_server_log,\n",
    "#     stderr=subprocess.PIPE)\n",
    "    \n",
    "# start the server\n",
    "popen_obj = subprocess.Popen(\n",
    "    start_server_command.split(), stdout=ngram_server_log,\n",
    "    stderr=subprocess.PIPE)\n"
   ]
  },
  {
   "cell_type": "code",
   "execution_count": 64,
   "metadata": {
    "collapsed": false
   },
   "outputs": [],
   "source": [
    "# write a file with some test lines\n",
    "# candidate_words = [u'wrong', u'happy', u'swimmer', u'crazy', u'aewgaegh']\n",
    "candidate_words = target_lm_candidates\n",
    "candidate_file_name = 'candidate_words.tmp'\n",
    "with codecs.open(candidate_file_name, 'w', encoding='utf8') as tmp:\n",
    "    for w in candidate_words:\n",
    "        cand = target_prefix + [w]\n",
    "        # remember that the lm is LOWERCASE\n",
    "        tmp.write(' '.join(cand).lower() + '\\n')\n"
   ]
  },
  {
   "cell_type": "code",
   "execution_count": 65,
   "metadata": {
    "collapsed": true
   },
   "outputs": [],
   "source": [
    "# call the srilm server with the candidate files and get the output back \n",
    "# calling the ngram server\n",
    "# ngram -use-server 5050 -ppl test.txt -debug 2\n",
    "# this flag lets you cache client-side: -cache-served-ngrams\n",
    "# -order n\n",
    "# Set the maximal N-gram order to be used, by default 3. NOTE: The order of the model is not set automatically when a model file is read, so the same file can be used at various orders. \n",
    "# To use models of order higher than 3 it is always necessary to specify this option.\n",
    "\n",
    "call_server_command = \"ngram -use-server 6070 -ppl {} -debug 2 -tolower\".format(candidate_file_name)\n",
    "lm_client_output, lm_client_error = subprocess.Popen(\n",
    "                    call_server_command.split(), stdout=subprocess.PIPE,\n",
    "                    stderr=subprocess.PIPE).communicate()\n"
   ]
  },
  {
   "cell_type": "code",
   "execution_count": 66,
   "metadata": {
    "collapsed": true
   },
   "outputs": [],
   "source": [
    "# SRILM output parser"
   ]
  },
  {
   "cell_type": "code",
   "execution_count": 67,
   "metadata": {
    "collapsed": false
   },
   "outputs": [],
   "source": [
    "# SRILM prints one blank line at the end of the file, ignore it\n",
    "output_lines = lm_client_output.split('\\n')[:-1]\n",
    "\n",
    "# each result is separated by one blank line\n",
    "# iterate until a blank line, then get the previous index\n",
    "# the logprob is the fourth unit in the whitespace-delimeted last line\n",
    "# the ppl1 (ppl without sentence ending is the last unit in the whitespace-delimeted last line\n",
    "ordered_logprobs = []\n",
    "for i,l in enumerate(output_lines):\n",
    "    if re.match(\"^$\", l):\n",
    "        completion_scores = output_lines[i-1].split()\n",
    "        logprob = float(completion_scores[3])\n",
    "        ppl = float(completion_scores[-1])\n",
    "        ordered_logprobs.append(logprob)\n",
    "        \n",
    "\n"
   ]
  },
  {
   "cell_type": "code",
   "execution_count": 68,
   "metadata": {
    "collapsed": false
   },
   "outputs": [
    {
     "data": {
      "text/plain": [
       "[-8.49711,\n",
       " -9.12213,\n",
       " -9.12213,\n",
       " -9.49876,\n",
       " -9.69618,\n",
       " -7.60759,\n",
       " -9.44612,\n",
       " -11.0292,\n",
       " -9.67843,\n",
       " -9.88364,\n",
       " -8.44608,\n",
       " -8.89131,\n",
       " -7.50606,\n",
       " -7.60759,\n",
       " -4.55949,\n",
       " -12.2344,\n",
       " -12.5828,\n",
       " -7.58494,\n",
       " -6.64574,\n",
       " -6.66171,\n",
       " -5.02448]"
      ]
     },
     "execution_count": 68,
     "metadata": {},
     "output_type": "execute_result"
    }
   ],
   "source": [
    "ordered_logprobs"
   ]
  },
  {
   "cell_type": "code",
   "execution_count": 69,
   "metadata": {
    "collapsed": false
   },
   "outputs": [],
   "source": [
    "assert len(ordered_logprobs) == len(candidate_words)"
   ]
  },
  {
   "cell_type": "code",
   "execution_count": 70,
   "metadata": {
    "collapsed": true
   },
   "outputs": [],
   "source": [
    "sorted_completions = sorted(zip(candidate_words, ordered_logprobs), key=lambda u: u[1], reverse=True)"
   ]
  },
  {
   "cell_type": "code",
   "execution_count": 71,
   "metadata": {
    "collapsed": false
   },
   "outputs": [
    {
     "data": {
      "text/plain": [
       "[(u'.', -4.55949),\n",
       " (u'wrong .', -5.02448),\n",
       " (u'mistaken .', -6.64574),\n",
       " (u'false .', -6.66171),\n",
       " (u';', -7.50606),\n",
       " (u'flawed .', -7.58494),\n",
       " (u',', -7.60759),\n",
       " (u',', -7.60759),\n",
       " (u'wrong', -8.44608),\n",
       " (u'That', -8.49711),\n",
       " (u', and', -8.89131),\n",
       " (u'this', -9.12213),\n",
       " (u'This', -9.12213),\n",
       " (u'is', -9.44612),\n",
       " (u'are', -9.49876),\n",
       " (u'mistaken', -9.67843),\n",
       " (u'has', -9.69618),\n",
       " (u'false', -9.88364),\n",
       " (u'mistake', -11.0292),\n",
       " (u'This is', -12.2344),\n",
       " (u'is wrong', -12.5828)]"
      ]
     },
     "execution_count": 71,
     "metadata": {},
     "output_type": "execute_result"
    }
   ],
   "source": [
    "sorted_completions"
   ]
  },
  {
   "cell_type": "code",
   "execution_count": 26,
   "metadata": {
    "collapsed": false
   },
   "outputs": [
    {
     "data": {
      "text/plain": [
       "['that is wrong',\n",
       " '\\tp( that | <s> ) \\t=  0.0276599 [ -1.55815 ]',\n",
       " '\\tp( is | that ...) \\t=  0.605759 [ -0.2177 ]',\n",
       " '\\tp( wrong | is ...) \\t=  0.00204489 [ -2.68933 ]',\n",
       " '\\tp( </s> | wrong ...) \\t=  0.000104496 [ -3.9809 ]',\n",
       " '1 sentences, 3 words, 0 OOVs',\n",
       " '0 zeroprobs, logprob= -8.44608 ppl= 129.277 ppl1= 653.672',\n",
       " '',\n",
       " 'that is happy',\n",
       " '\\tp( that | <s> ) \\t=  0.0276599 [ -1.55815 ]',\n",
       " '\\tp( is | that ...) \\t=  0.605759 [ -0.2177 ]',\n",
       " '\\tp( happy | is ...) \\t=  2.171e-05 [ -4.66334 ]',\n",
       " '\\tp( </s> | happy ...) \\t=  0.000123957 [ -3.90673 ]',\n",
       " '1 sentences, 3 words, 0 OOVs',\n",
       " '0 zeroprobs, logprob= -10.3459 ppl= 385.905 ppl1= 2809.57',\n",
       " '',\n",
       " 'that is swimmer',\n",
       " '\\tp( that | <s> ) \\t=  0.0276599 [ -1.55815 ]',\n",
       " '\\tp( is | that ...) \\t=  0.605759 [ -0.2177 ]',\n",
       " '\\tp( swimmer | is ...) \\t=  0 [ -inf ]',\n",
       " '\\tp( </s> | swimmer ...) \\t=  0.00164014 [ -2.78512 ]',\n",
       " '1 sentences, 3 words, 0 OOVs',\n",
       " '1 zeroprobs, logprob= -4.56097 ppl= 33.1378 ppl1= 190.759',\n",
       " '',\n",
       " 'file candidate_words.tmp: 3 sentences, 9 words, 0 OOVs',\n",
       " '1 zeroprobs, logprob= -23.353 ppl= 132.739 ppl1= 830.083',\n",
       " '']"
      ]
     },
     "execution_count": 26,
     "metadata": {},
     "output_type": "execute_result"
    }
   ],
   "source": [
    "output_lines"
   ]
  },
  {
   "cell_type": "code",
   "execution_count": null,
   "metadata": {
    "collapsed": true
   },
   "outputs": [],
   "source": []
  }
 ],
 "metadata": {
  "kernelspec": {
   "display_name": "Python 2",
   "language": "python",
   "name": "python2"
  },
  "language_info": {
   "codemirror_mode": {
    "name": "ipython",
    "version": 2
   },
   "file_extension": ".py",
   "mimetype": "text/x-python",
   "name": "python",
   "nbconvert_exporter": "python",
   "pygments_lexer": "ipython2",
   "version": "2.7.9"
  }
 },
 "nbformat": 4,
 "nbformat_minor": 0
}
