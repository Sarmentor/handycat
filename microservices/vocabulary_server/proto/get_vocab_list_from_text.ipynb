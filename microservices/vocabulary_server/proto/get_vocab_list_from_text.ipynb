{
 "cells": [
  {
   "cell_type": "code",
   "execution_count": 4,
   "metadata": {
    "collapsed": true
   },
   "outputs": [],
   "source": [
    "from __future__ import division, print_function\n",
    "import numpy as np\n",
    "import codecs\n",
    "import re\n",
    "import os\n",
    "\n",
    "%load_ext autoreload\n",
    "%autoreload 2"
   ]
  },
  {
   "cell_type": "code",
   "execution_count": 5,
   "metadata": {
    "collapsed": true
   },
   "outputs": [],
   "source": [
    "from nltk.tokenize import word_tokenize"
   ]
  },
  {
   "cell_type": "code",
   "execution_count": 6,
   "metadata": {
    "collapsed": true
   },
   "outputs": [],
   "source": [
    "from collections import Counter"
   ]
  },
  {
   "cell_type": "code",
   "execution_count": 122,
   "metadata": {
    "collapsed": true
   },
   "outputs": [],
   "source": [
    "# text_file = '/home/chris/test/text8/text8'\n",
    "\n",
    "# SPANISH NEWS COMMENTARY\n",
    "nc_text_file = '/home/chris/projects/angular/editor_components/microservices/vocabulary_server/test_data/text_for_lm/news-commentary-v8.es.gz'\n",
    "\n",
    "# SPANISH WIKIPEDIA DATA\n",
    "wiki_text_file = '/home/chris/projects/angular/editor_components/microservices/vocabulary_server/proto/spanish_data/spanish_wikipedia_data.txt'"
   ]
  },
  {
   "cell_type": "code",
   "execution_count": 123,
   "metadata": {
    "collapsed": true
   },
   "outputs": [],
   "source": [
    "import gzip"
   ]
  },
  {
   "cell_type": "code",
   "execution_count": 124,
   "metadata": {
    "collapsed": true
   },
   "outputs": [],
   "source": [
    "# Utils for autocomplete\n",
    "def extract_phrases(tokens, min_len=1, max_len=2):\n",
    "    phrase_list = []\n",
    "    for i in range(min_len, min(len(tokens)+1, max_len+1)):\n",
    "        phrase_list.extend([tokens[j:j+i] for j in range(len(tokens)-i+1)])\n",
    "    return phrase_list\n"
   ]
  },
  {
   "cell_type": "code",
   "execution_count": 132,
   "metadata": {
    "collapsed": false
   },
   "outputs": [
    {
     "name": "stdout",
     "output_type": "stream",
     "text": [
      "0\n",
      "10000\n",
      "20000\n",
      "30000\n",
      "40000\n",
      "50000\n",
      "60000\n",
      "70000\n",
      "80000\n",
      "90000\n",
      "100000\n",
      "110000\n",
      "120000\n",
      "130000\n",
      "140000\n",
      "150000\n",
      "160000\n",
      "170000\n",
      "180000\n",
      "190000\n"
     ]
    }
   ],
   "source": [
    "# TODO: pad each line with _START_ and _END_ to get real sequence probs?\n",
    "ngram_counts = Counter()\n",
    "lm_order = 3\n",
    "max_lines = 200000\n",
    "\n",
    "with gzip.open(nc_text_file, 'rb') as input:\n",
    "    pos = 0\n",
    "    for line in list(input)[:max_lines]:\n",
    "        if pos % 10000 == 0:\n",
    "            print(pos)\n",
    "        pos += 1\n",
    "        line = line.decode('utf8').strip()\n",
    "        tokens = word_tokenize(line, language='spanish')\n",
    "#         print(tokens)\n",
    "        # get all ngrams from two up to lm_order\n",
    "        ngrams = extract_phrases(tokens, min_len=1, max_len=3)\n",
    "#         print(ngrams)\n",
    "        # embarrasingly parallel\n",
    "        for ngram in ngrams:\n",
    "#             print(type(ngram))\n",
    "            # the dict syntax here is important -- otherwise each string will update individually (as if unigram)\n",
    "            ngram_counts.update({tuple(ngram): 1})\n",
    "            # if first item is uppercase, also add the lowercase version\n",
    "            if ngram[0][0].isupper():\n",
    "                lower_ngram = [w.lower() for w in ngram]\n",
    "                ngram_counts.update({tuple(lower_ngram): 1})\n",
    "                \n",
    "        \n"
   ]
  },
  {
   "cell_type": "code",
   "execution_count": 133,
   "metadata": {
    "collapsed": false
   },
   "outputs": [
    {
     "name": "stdout",
     "output_type": "stream",
     "text": [
      "0\n"
     ]
    }
   ],
   "source": [
    "# now do the same for spanish wikipedia data\n",
    "with open(wiki_text_file, 'rb') as input:\n",
    "    pos = 0\n",
    "    for line in list(input)[:max_lines]:\n",
    "        if pos % 10000 == 0:\n",
    "            print(pos)\n",
    "        pos += 1\n",
    "        line = line.decode('utf8').strip()\n",
    "        tokens = word_tokenize(line, language='spanish')\n",
    "#         print(tokens)\n",
    "        # get all ngrams from two up to lm_order\n",
    "        ngrams = extract_phrases(tokens, min_len=1, max_len=3)\n",
    "#         print(ngrams)\n",
    "        # embarrasingly parallel\n",
    "        for ngram in ngrams:\n",
    "#             print(type(ngram))\n",
    "            # the dict syntax here is important -- otherwise each string will update individually (as if unigram)\n",
    "            ngram_counts.update({tuple(ngram): 1})\n",
    "            \n",
    "            # if first item is uppercase, also add the lowercase version\n",
    "            if ngram[0][0].isupper():\n",
    "                lower_ngram = [w.lower() for w in ngram]\n",
    "                ngram_counts.update({tuple(lower_ngram): 1})\n",
    "                \n"
   ]
  },
  {
   "cell_type": "code",
   "execution_count": 138,
   "metadata": {
    "collapsed": true
   },
   "outputs": [],
   "source": [
    "min_unigram_threshold = 25\n",
    "min_count_threshold = 500\n",
    "min_key_char_len = 3"
   ]
  },
  {
   "cell_type": "code",
   "execution_count": 139,
   "metadata": {
    "collapsed": false
   },
   "outputs": [
    {
     "data": {
      "text/plain": [
       "4446359"
      ]
     },
     "execution_count": 139,
     "metadata": {},
     "output_type": "execute_result"
    }
   ],
   "source": [
    "len(ngram_counts.keys())"
   ]
  },
  {
   "cell_type": "code",
   "execution_count": 140,
   "metadata": {
    "collapsed": true
   },
   "outputs": [],
   "source": [
    "for key, value in ngram_counts.items():\n",
    "    if len(key) == 1 and (value < min_unigram_threshold or len(' '.join(key)) < min_key_char_len):\n",
    "        del ngram_counts[key]\n",
    "    elif len(key) > 1 and (value < min_count_threshold or len(' '.join(key)) < min_key_char_len):\n",
    "        del ngram_counts[key]\n",
    "        "
   ]
  },
  {
   "cell_type": "code",
   "execution_count": 141,
   "metadata": {
    "collapsed": false
   },
   "outputs": [
    {
     "data": {
      "text/plain": [
       "14018"
      ]
     },
     "execution_count": 141,
     "metadata": {},
     "output_type": "execute_result"
    }
   ],
   "source": [
    "len(ngram_counts.keys())"
   ]
  },
  {
   "cell_type": "code",
   "execution_count": 142,
   "metadata": {
    "collapsed": false
   },
   "outputs": [
    {
     "data": {
      "text/plain": [
       "765"
      ]
     },
     "execution_count": 142,
     "metadata": {},
     "output_type": "execute_result"
    }
   ],
   "source": [
    "ngram_counts[(u'españa',)]"
   ]
  },
  {
   "cell_type": "code",
   "execution_count": 143,
   "metadata": {
    "collapsed": false
   },
   "outputs": [
    {
     "data": {
      "text/plain": [
       "[((u'que',), 149520),\n",
       " ((u'los',), 134138),\n",
       " ((u'las',), 73331),\n",
       " ((u'del',), 62400),\n",
       " ((u'una',), 55458),\n",
       " ((u'de', u'la'), 50677),\n",
       " ((u'para',), 48326),\n",
       " ((u'por',), 45929),\n",
       " ((u'con',), 38286),\n",
       " ((u'm\\xe1s',), 35412),\n",
       " ((u'de', u'los'), 32208),\n",
       " ((u'como',), 25853),\n",
       " ((u'en', u'el'), 20281),\n",
       " ((u'pero',), 19914),\n",
       " ((u'sus',), 19213),\n",
       " ((u'a', u'la'), 16960),\n",
       " ((u'de', u'las'), 16763),\n",
       " ((u'en', u'la'), 16644),\n",
       " ((u',', u'la'), 16086),\n",
       " ((u',', u'el'), 15898),\n",
       " ((u'a', u'los'), 13885),\n",
       " ((u'pa\\xedses',), 13648),\n",
       " ((u'estados',), 13393),\n",
       " ((u'Estados',), 12134),\n",
       " ((u'sin',), 11690),\n",
       " ((u'que', u'se'), 11440),\n",
       " ((u'lo', u'que'), 10992),\n",
       " ((u',', u'los'), 10946),\n",
       " ((u',', u'y'), 10795),\n",
       " ((u'unidos',), 10738),\n",
       " ((u'sobre',), 10673),\n",
       " ((u'Unidos',), 10662),\n",
       " ((u'estados', u'unidos'), 10572),\n",
       " ((u'Estados', u'Unidos'), 10570),\n",
       " ((u'son',), 10562),\n",
       " ((u'y', u'la'), 10526),\n",
       " ((u',', u'pero'), 10455),\n",
       " ((u'han',), 10429),\n",
       " ((u'de', u'que'), 10391),\n",
       " ((u'que', u'la'), 10145),\n",
       " ((u'Los',), 10085),\n",
       " ((u'que', u'los'), 9960),\n",
       " ((u'que', u'el'), 9820),\n",
       " ((u'est\\xe1',), 9759),\n",
       " ((u'en', u'los'), 9599),\n",
       " ((u'mundo',), 9335),\n",
       " ((u'puede',), 9334),\n",
       " ((u',', u'en'), 9310),\n",
       " ((u'entre',), 9268),\n",
       " ((u'tambi\\xe9n',), 9149),\n",
       " ((u',', u'que'), 9044),\n",
       " ((u'china',), 9000),\n",
       " ((u'ser',), 8894),\n",
       " ((u'pol\\xedtica',), 8725),\n",
       " ((u'China',), 8520),\n",
       " ((u'a\\xf1os',), 8434),\n",
       " ((u'Pero',), 8311),\n",
       " ((u'y', u'el'), 8240),\n",
       " ((u'gobierno',), 8046),\n",
       " ((u'cuando',), 7959),\n",
       " ((u'vez',), 7528),\n",
       " ((u'este',), 7500),\n",
       " ((u'parte',), 7398),\n",
       " ((u'europa',), 7378),\n",
       " ((u'Europa',), 7377),\n",
       " ((u'pa\\xeds',), 7339),\n",
       " ((u'est\\xe1n',), 7256),\n",
       " ((u'los', u'pa\\xedses'), 7211),\n",
       " ((u'de', u'un'), 7125),\n",
       " ((u's\\xf3lo',), 7053),\n",
       " ((u'de', u'una'), 6784),\n",
       " ((u'todo',), 6247),\n",
       " ((u'a', u'las'), 6132),\n",
       " ((u'gran',), 6118),\n",
       " ((u'crecimiento',), 6094),\n",
       " ((u'y', u'los'), 6001),\n",
       " ((u'embargo',), 5908),\n",
       " ((u'crisis',), 5880),\n",
       " ((u'sin', u'embargo'), 5827),\n",
       " ((u'ahora',), 5814),\n",
       " ((u'mayor',), 5760),\n",
       " ((u'menos',), 5751),\n",
       " ((u'econom\\xeda',), 5740),\n",
       " ((u'embargo', u','), 5721),\n",
       " ((u'hecho',), 5709),\n",
       " ((u'sin', u'embargo', u','), 5705),\n",
       " ((u'Sin',), 5629),\n",
       " ((u'desde',), 5571),\n",
       " ((u'otros',), 5512),\n",
       " ((u'dos',), 5487),\n",
       " ((u'fue',), 5464),\n",
       " ((u',', u'no'), 5406),\n",
       " ((u',', u'las'), 5400),\n",
       " ((u'pueden',), 5395),\n",
       " ((u'Por',), 5384),\n",
       " ((u'en', u'las'), 5318),\n",
       " ((u'los', u'Estados'), 5233),\n",
       " ((u'estado',), 5196),\n",
       " ((u'cambio',), 5196),\n",
       " ((u'contra',), 5158)]"
      ]
     },
     "execution_count": 143,
     "metadata": {},
     "output_type": "execute_result"
    }
   ],
   "source": [
    "[i for i in ngram_counts.most_common()][:100]"
   ]
  },
  {
   "cell_type": "code",
   "execution_count": 144,
   "metadata": {
    "collapsed": true
   },
   "outputs": [],
   "source": [
    "# map the tuple keys to strings (they're going to be queried as strings in the UI)\n",
    "string_ngram_counts = dict()"
   ]
  },
  {
   "cell_type": "code",
   "execution_count": 145,
   "metadata": {
    "collapsed": false
   },
   "outputs": [],
   "source": [
    "for k,v in ngram_counts.items():\n",
    "    string_ngram_counts[' '.join(k)] = v"
   ]
  },
  {
   "cell_type": "code",
   "execution_count": 146,
   "metadata": {
    "collapsed": true
   },
   "outputs": [],
   "source": [
    "# dump keys and counts to json\n",
    "import json\n",
    "with codecs.open('spanish.vocabulary.counts.json','w', encoding='utf8') as json_out:\n",
    "    json_out.write(json.dumps(string_ngram_counts, indent=2))\n",
    "    \n",
    "# dump just keys to json (flat vocab list)\n",
    "with codecs.open('spanish.vocabulary.list.json','w', encoding='utf8') as json_out:\n",
    "    json_out.write(json.dumps([k for k in string_ngram_counts.keys()], indent=2))"
   ]
  },
  {
   "cell_type": "code",
   "execution_count": 125,
   "metadata": {
    "collapsed": false
   },
   "outputs": [
    {
     "name": "stdout",
     "output_type": "stream",
     "text": [
      "(u'it', u'does', u'not')\n",
      "(u'been', u'able', u'to')\n",
      "(u'(', u'such', u'as')\n",
      "(u'needs', u'to', u'be')\n",
      "(u',', u'at', u'the')\n",
      "(u'to', u'do', u'with')\n",
      "(u'to', u'have', u'been')\n",
      "(u'the', u'world', u'bank')\n",
      "(u',', u'and', u'in')\n",
      "(u'growth', u'in', u'the')\n",
      "(u',', u'and', u'then')\n",
      "(u'the', u'west', u',')\n",
      "(u'because', u'they', u'are')\n",
      "(u'of', u'course', u',')\n",
      "(u',', u'to', u'be')\n",
      "(u'that', u'they', u'were')\n",
      "(u'the', u'case', u'of')\n",
      "(u'part', u'of', u'the')\n",
      "(u'the', u'bush', u'administration')\n",
      "(u'owing', u'to', u'the')\n",
      "(u'of', u'those', u'who')\n",
      "(u'it', u'was', u'the')\n",
      "(u'in', u'which', u'the')\n",
      "(u',', u'we', u'are')\n",
      "(u',', u'this', u'is')\n",
      "(u',', u'the', u'current')\n",
      "(u'to', u'the', u'us')\n",
      "(u'has', u'become', u'a')\n",
      "(u'same', u'time', u',')\n",
      "(u'will', u'continue', u'to')\n",
      "(u'of', u'the', u'us')\n",
      "(u'is', u'that', u'the')\n",
      "(u'more', u'than', u'the')\n",
      "(u'that', u'have', u'been')\n",
      "(u'a', u'lack', u'of')\n",
      "(u',', u'which', u'has')\n",
      "(u'a', u'group', u'of')\n",
      "(u',', u'but', u'a')\n",
      "(u',', u'however', u',')\n",
      "(u',', u'is', u'a')\n",
      "(u',', u'and', u'has')\n",
      "(u'the', u'hands', u'of')\n",
      "(u'appears', u'to', u'be')\n",
      "(u',', u'has', u'been')\n",
      "(u',', u'despite', u'the')\n",
      "(u',', u'the', u'only')\n",
      "(u'to', u'see', u'the')\n",
      "(u'that', u'the', u'us')\n",
      "(u'meanwhile', u',', u'the')\n",
      "(u'role', u'in', u'the')\n",
      "(u'indeed', u',', u'the')\n",
      "(u'in', u'europe', u',')\n",
      "(u'due', u'to', u'the')\n",
      "(u'the', u'us', u'has')\n",
      "(u'more', u'than', u'a')\n",
      "(u'as', u'it', u'is')\n",
      "(u'a', u'number', u'of')\n",
      "(u'but', u'they', u'are')\n",
      "(u'support', u'for', u'the')\n",
      "(u'the', u'creation', u'of')\n",
      "(u'the', u'kind', u'of')\n",
      "(u',', u'it', u'was')\n",
      "(u'as', u'long', u'as')\n",
      "(u',', u'and', u'for')\n",
      "(u'some', u'of', u'the')\n",
      "(u'be', u'used', u'to')\n",
      "(u',', u'and', u'a')\n",
      "(u',', u'after', u'the')\n",
      "(u'the', u'development', u'of')\n",
      "(u'likely', u'to', u'be')\n",
      "(u'the', u'united', u'states')\n",
      "(u'the', u'issue', u'of')\n",
      "(u',', u'and', u'are')\n",
      "(u'a', u'form', u'of')\n",
      "(u'there', u'is', u'no')\n",
      "(u'the', u'consequences', u'of')\n",
      "(u',', u'which', u'will')\n",
      "(u'the', u'idea', u'of')\n",
      "(u'of', u'the', u'world')\n",
      "(u',', u'but', u'they')\n",
      "(u'in', u'order', u'to')\n",
      "(u'part', u'of', u'a')\n",
      "(u'it', u'comes', u'to')\n",
      "(u',', u'a', u'new')\n",
      "(u'a', u'period', u'of')\n",
      "(u'seems', u'to', u'be')\n",
      "(u'to', u'have', u'a')\n",
      "(u',', u'in', u'the')\n",
      "(u'the', u'problem', u'of')\n",
      "(u'appear', u'to', u'be')\n",
      "(u'but', u',', u'while')\n",
      "(u'in', u'addition', u'to')\n",
      "(u'in', u'the', u'us')\n",
      "(u',', u'and', u'they')\n",
      "(u',', u'given', u'the')\n",
      "(u'the', u'lack', u'of')\n",
      "(u'and', u',', u'in')\n",
      "(u'means', u'that', u'the')\n",
      "(u',', u'which', u'is')\n",
      "(u',', u'including', u'the')\n",
      "(u'no', u'longer', u'be')\n",
      "(u'has', u'been', u'a')\n",
      "(u'or', u'at', u'least')\n",
      "(u'the', u'global', u'economy')\n",
      "(u'deal', u'with', u'the')\n",
      "(u'is', u'likely', u'to')\n",
      "(u'it', u'is', u'not')\n",
      "(u'will', u'have', u'to')\n",
      "(u',', u'to', u'the')\n",
      "(u',', u'china', u'has')\n",
      "(u'us', u',', u'the')\n",
      "(u'in', u'particular', u',')\n",
      "(u'moreover', u',', u'the')\n",
      "(u'the', u'need', u'to')\n",
      "(u',', u'have', u'been')\n",
      "(u'and', u'that', u'the')\n",
      "(u'together', u'with', u'the')\n",
      "(u',', u'in', u'which')\n",
      "(u',', u'the', u'most')\n",
      "(u',', u'it', u'would')\n",
      "(u'end', u'of', u'the')\n",
      "(u'not', u'only', u'to')\n",
      "(u'is', u'also', u'a')\n",
      "(u'contrast', u',', u'the')\n",
      "(u',', u'where', u'the')\n",
      "(u'and', u'in', u'the')\n",
      "(u'countries', u',', u'the')\n",
      "(u'may', u'not', u'be')\n",
      "(u'course', u',', u'the')\n",
      "(u'would', u'have', u'to')\n",
      "(u'to', u'ensure', u'that')\n",
      "(u'that', u'has', u'been')\n",
      "(u'according', u'to', u'the')\n",
      "(u'change', u'in', u'the')\n",
      "(u'the', u'basis', u'of')\n",
      "(u'result', u',', u'the')\n",
      "(u'compared', u'to', u'the')\n",
      "(u'the', u'crisis', u',')\n",
      "(u'is', u'not', u'the')\n",
      "(u'will', u'be', u'a')\n",
      "(u'the', u'european', u'union')\n",
      "(u',', u'say', u',')\n",
      "(u'#', u'160', u';')\n",
      "(u'a', u'way', u'to')\n",
      "(u'to', u'try', u'to')\n",
      "(u'fact', u',', u'the')\n",
      "(u',', u'according', u'to')\n",
      "(u'view', u'of', u'the')\n",
      "(u',', u'but', u'also')\n",
      "(u'to', u'reduce', u'the')\n",
      "(u'the', u'most', u'important')\n",
      "(u'is', u'unlikely', u'to')\n",
      "(u',', u'the', u'more')\n",
      "(u',', u'because', u'it')\n",
      "(u',', u'\\u201d', u'the')\n",
      "(u',', u'but', u'to')\n",
      "(u'result', u'of', u'the')\n",
      "(u'that', u'it', u'will')\n",
      "(u',', u'of', u'the')\n",
      "(u',', u'so', u'the')\n",
      "(u'of', u'the', u'most')\n",
      "(u'however', u',', u'the')\n",
      "(u'countries', u',', u'and')\n",
      "(u',', u'even', u'though')\n",
      "(u'that', u'it', u'would')\n",
      "(u',', u'\\u201d', u'which')\n",
      "(u'the', u'eu', u',')\n",
      "(u'more', u'likely', u'to')\n",
      "(u'head', u'of', u'the')\n",
      "(u'the', u'face', u'of')\n",
      "(u',', u'rather', u'than')\n",
      "(u',', u'since', u'the')\n",
      "(u'the', u'united', u'nations')\n",
      "(u'the', u'prospect', u'of')\n",
      "(u'all', u'of', u'the')\n",
      "(u'\\u2013', u'and', u'thus')\n",
      "(u'members', u'of', u'the')\n",
      "(u'that', u'can', u'be')\n",
      "(u',', u'and', u',')\n",
      "(u'is', u'not', u'a')\n",
      "(u'and', u'it', u'is')\n",
      "(u'that', u'they', u'can')\n",
      "(u',', u'instead', u'of')\n",
      "(u'in', u'the', u'past')\n",
      "(u'of', u'thousands', u'of')\n",
      "(u'the', u'us', u',')\n",
      "(u'unfortunately', u',', u'the')\n",
      "(u'they', u'are', u'not')\n",
      "(u'more', u'or', u'less')\n",
      "(u',', u'if', u'the')\n",
      "(u'it', u'would', u'be')\n",
      "(u',', u'as', u'in')\n",
      "(u'have', u'to', u'be')\n",
      "(u'the', u'us', u'is')\n",
      "(u'after', u'all', u',')\n",
      "(u'will', u'not', u'be')\n",
      "(u'the', u'role', u'of')\n",
      "(u',', u'or', u'even')\n",
      "(u',', u'and', u'some')\n",
      "(u'new', u'york', u'\\u2013')\n",
      "(u'seem', u'to', u'be')\n",
      "(u'years', u',', u'the')\n",
      "(u',', u'or', u'the')\n",
      "(u'\\u2013', u'and', u'the')\n",
      "(u'would', u'be', u'to')\n",
      "(u'example', u',', u'the')\n",
      "(u',', u'indeed', u',')\n",
      "(u'most', u'of', u'the')\n",
      "(u'led', u'to', u'the')\n",
      "(u'the', u'us', u'to')\n",
      "(u'that', u'is', u'a')\n",
      "(u'the', u'ability', u'to')\n",
      "(u'to', u'deal', u'with')\n",
      "(u'out', u'to', u'be')\n",
      "(u'by', u'contrast', u',')\n",
      "(u'fact', u'that', u'the')\n",
      "(u'to', u'build', u'a')\n",
      "(u'it', u'is', u'also')\n",
      "(u'a', u'result', u',')\n",
      "(u'if', u'it', u'is')\n",
      "(u'would', u'not', u'be')\n",
      "(u'a', u'kind', u'of')\n",
      "(u',', u'and', u'an')\n",
      "(u'that', u'of', u'the')\n",
      "(u',', u'so', u'that')\n",
      "(u'to', u'make', u'the')\n",
      "(u'the', u'power', u'of')\n",
      "(u'problem', u'is', u'that')\n",
      "(u'to', u'keep', u'the')\n",
      "(u',', u'but', u'the')\n",
      "(u'of', u'the', u'world\\u2019s')\n",
      "(u',', u'on', u'the')\n",
      "(u'in', u'addition', u',')\n",
      "(u'and', u'the', u'us')\n",
      "(u'around', u'the', u'world')\n",
      "(u'in', u'iraq', u',')\n",
      "(u'nature', u'of', u'the')\n",
      "(u',', u'and', u'the')\n",
      "(u'that', u'it', u'was')\n",
      "(u',', u'it', u'is')\n",
      "(u'\\u2013', u'in', u'the')\n",
      "(u'the', u'risk', u'of')\n",
      "(u'the', u'result', u'of')\n",
      "(u'george', u'w.', u'bush')\n",
      "(u',', u'is', u'the')\n",
      "(u',', u'and', u'that')\n",
      "(u'last', u'year', u',')\n",
      "(u'of', u'the', u'european')\n",
      "(u'the', u'country', u',')\n",
      "(u'lead', u'to', u'a')\n",
      "(u'be', u'able', u'to')\n",
      "(u'the', u'international', u'community')\n",
      "(u'to', u'be', u'a')\n",
      "(u'it', u'is', u'the')\n",
      "(u'based', u'on', u'the')\n",
      "(u',', u'from', u'the')\n",
      "(u',', u'and', u'their')\n",
      "(u'need', u'to', u'be')\n",
      "(u'the', u'end', u',')\n",
      "(u'the', u'region', u',')\n",
      "(u'return', u'to', u'the')\n",
      "(u'they', u'do', u'not')\n",
      "(u'even', u'if', u'the')\n",
      "(u',', u'and', u'its')\n",
      "(u',', u'owing', u'to')\n",
      "(u'the', u'threat', u'of')\n",
      "(u',', u'will', u'be')\n",
      "(u'case', u',', u'the')\n",
      "(u'there', u'is', u'a')\n",
      "(u',', u'but', u'that')\n",
      "(u'a', u'result', u'of')\n",
      "(u'to', u'become', u'a')\n",
      "(u'political', u'and', u'economic')\n",
      "(u'that', u'it', u'has')\n",
      "(u'in', u'terms', u'of')\n",
      "(u'for', u'example', u',')\n",
      "(u',', u'while', u'the')\n",
      "(u'are', u'likely', u'to')\n",
      "(u'this', u'is', u'a')\n",
      "(u'interest', u'rates', u',')\n",
      "(u',', u'or', u'to')\n",
      "(u',', u'because', u'they')\n",
      "(u'the', u'rise', u'of')\n",
      "(u'finally', u',', u'the')\n",
      "(u'for', u'a', u'new')\n",
      "(u',', u'the', u'eu')\n",
      "(u'is', u'difficult', u'to')\n",
      "(u',', u'too', u',')\n",
      "(u'that', u'they', u'are')\n",
      "(u'the', u'right', u'to')\n",
      "(u'the', u'end', u'of')\n",
      "(u',', u'the', u'world')\n",
      "(u',', u'with', u'its')\n",
      "(u'economic', u'growth', u'and')\n",
      "(u'the', u'us', u'and')\n",
      "(u'because', u'of', u'the')\n",
      "(u'away', u'from', u'the')\n",
      "(u',', u'just', u'as')\n",
      "(u'would', u'be', u'a')\n",
      "(u',', u'which', u'was')\n",
      "(u'but', u'if', u'the')\n",
      "(u'would', u'have', u'been')\n",
      "(u'a', u'time', u'when')\n",
      "(u',', u'the', u'new')\n",
      "(u'the', u'world', u\"'s\")\n",
      "(u'with', u'the', u'us')\n",
      "(u',', u'and', u'other')\n",
      "(u'second', u',', u'the')\n",
      "(u',', u'and', u'it')\n",
      "(u'today', u',', u'the')\n",
      "(u'as', u'in', u'the')\n",
      "(u',', u'there', u'are')\n",
      "(u'instead', u',', u'the')\n",
      "(u'a', u'matter', u'of')\n",
      "(u'it', u'was', u'a')\n",
      "(u'many', u'of', u'the')\n",
      "(u'out', u'of', u'the')\n",
      "(u',', u'for', u'the')\n",
      "(u'a', u'source', u'of')\n",
      "(u'be', u'sure', u',')\n",
      "(u'in', u'the', u'region')\n",
      "(u'such', u'as', u'the')\n",
      "(u',', u'and', u'with')\n",
      "(u',', u'as', u'a')\n",
      "(u'other', u'hand', u',')\n",
      "(u'the', u'past', u',')\n",
      "(u'long', u'as', u'the')\n",
      "(u'to', u'believe', u'that')\n",
      "(u'is', u'no', u'longer')\n",
      "(u'a', u'series', u'of')\n",
      "(u',', u'but', u'its')\n",
      "(u'middle', u'east', u',')\n",
      "(u',', u'we', u'can')\n",
      "(u'we', u'need', u'to')\n",
      "(u'economic', u'and', u'political')\n",
      "(u'in', u'the', u'west')\n",
      "(u'those', u'who', u'are')\n",
      "(u'the', u'world', u'economy')\n",
      "(u'it', u'is', u'a')\n",
      "(u'to', u'create', u'a')\n",
      "(u'the', u'process', u'of')\n",
      "(u'half', u'of', u'the')\n",
      "(u',', u'which', u'would')\n",
      "(u'the', u'name', u'of')\n",
      "(u',', u'there', u'is')\n",
      "(u',', u'and', u'thus')\n",
      "(u',', u'they', u'will')\n",
      "(u'should', u'not', u'be')\n",
      "(u',', u'is', u'not')\n",
      "(u'it', u'has', u'been')\n",
      "(u'in', u'short', u',')\n",
      "(u'will', u'need', u'to')\n",
      "(u'the', u'price', u'of')\n",
      "(u'ago', u',', u'the')\n",
      "(u'all', u'of', u'these')\n",
      "(u'the', u'number', u'of')\n",
      "(u'believe', u'that', u'the')\n",
      "(u'of', u'the', u'country\\u2019s')\n",
      "(u'an', u'opportunity', u'to')\n",
      "(u'to', u'be', u'the')\n",
      "(u'as', u'well', u'as')\n",
      "(u'not', u'the', u'only')\n",
      "(u'control', u'of', u'the')\n",
      "(u'an', u'increase', u'in')\n",
      "(u'clear', u'that', u'the')\n",
      "(u'we', u'can', u'not')\n",
      "(u',', u'they', u'have')\n",
      "(u',', u'because', u'the')\n",
      "(u'a', u'combination', u'of')\n",
      "(u',', u'as', u'the')\n",
      "(u'is', u'not', u'only')\n",
      "(u'the', u'need', u'for')\n",
      "(u',', u'or', u'a')\n",
      "(u'the', u'absence', u'of')\n",
      "(u'this', u'year', u',')\n",
      "(u'there', u'was', u'a')\n",
      "(u',', u'and', u'even')\n",
      "(u',', u'when', u'the')\n",
      "(u'be', u'allowed', u'to')\n",
      "(u'of', u'the', u'current')\n",
      "(u'the', u'world', u'is')\n",
      "(u'in', u'the', u'world')\n",
      "(u'the', u'level', u'of')\n",
      "(u'they', u'can', u'not')\n",
      "(u')', u',', u'which')\n",
      "(u',', u'they', u'are')\n",
      "(u'there', u'was', u'no')\n",
      "(u',', u'like', u'the')\n",
      "(u'the', u'benefits', u'of')\n",
      "(u',', u'not', u'a')\n",
      "(u',', u'not', u'the')\n",
      "(u',', u'and', u'by')\n",
      "(u'response', u'to', u'the')\n",
      "(u'one', u'of', u'the')\n",
      "(u'above', u'all', u',')\n",
      "(u'has', u'been', u'the')\n",
      "(u'it', u'is', u'to')\n",
      "(u'time', u',', u'the')\n",
      "(u'the', u'soviet', u'union')\n",
      "(u'all', u'of', u'this')\n",
      "(u',', u'he', u'was')\n",
      "(u'year', u',', u'the')\n",
      "(u')', u',', u'the')\n",
      "(u'of', u'their', u'own')\n",
      "(u'the', u'world', u',')\n",
      "(u'other', u'words', u',')\n",
      "(u',', u'such', u'as')\n",
      "(u'to', u'support', u'the')\n",
      "(u'president', u'barack', u'obama')\n",
      "(u',', u'it', u'will')\n",
      "(u'in', u'turn', u',')\n",
      "(u'that', u'is', u'the')\n",
      "(u'the', u'loss', u'of')\n",
      "(u'but', u',', u'as')\n",
      "(u',', u'which', u'are')\n",
      "(u',', u'the', u'us')\n",
      "(u',', u'if', u'not')\n",
      "(u'climate', u'change', u',')\n",
      "(u'seems', u'to', u'have')\n",
      "(u',', u'and', u'to')\n",
      "(u',', u'compared', u'to')\n",
      "(u'the', u'type', u'of')\n",
      "(u'the', u'impact', u'of')\n",
      "(u'&', u'nbsp', u';')\n",
      "(u'united', u'states', u',')\n",
      "(u'thus', u',', u'the')\n",
      "(u',', u'along', u'with')\n",
      "(u',', u'and', u'his')\n",
      "(u'had', u'to', u'be')\n",
      "(u',', u'even', u'if')\n",
      "(u'back', u'to', u'the')\n",
      "(u'in', u'china', u',')\n",
      "(u'because', u'it', u'is')\n",
      "(u'the', u'possibility', u'of')\n",
      "(u',', u'with', u'the')\n",
      "(u'a', u'lot', u'of')\n",
      "(u',', u'but', u'it')\n",
      "(u'there', u'are', u'no')\n",
      "(u'this', u'is', u'the')\n",
      "(u'can', u'not', u'be')\n",
      "(u'financial', u'crisis', u',')\n",
      "(u'is', u'to', u'be')\n",
      "(u'the', u'value', u'of')\n",
      "(u'rather', u'than', u'a')\n",
      "(u'of', u'a', u'new')\n",
      "(u',', u'is', u'that')\n",
      "(u',', u'but', u'not')\n",
      "(u'that', u'is', u'why')\n",
      "(u',', u'in', u'a')\n",
      "(u'first', u',', u'the')\n",
      "(u'has', u'not', u'been')\n",
      "(u',', u'together', u'with')\n",
      "(u'years', u'ago', u',')\n",
      "(u'not', u'only', u'the')\n",
      "(u'to', u'address', u'the')\n",
      "(u'the', u'future', u'of')\n",
      "(u'prime', u'minister', u',')\n",
      "(u'it', u'will', u'be')\n",
      "(u',', u'and', u'is')\n",
      "(u'but', u'it', u'is')\n",
      "(u'so', u'far', u',')\n",
      "(u'the', u'form', u'of')\n",
      "(u',', u'\\u201d', u'and')\n",
      "(u',', u'with', u'a')\n",
      "(u'well', u'as', u'the')\n",
      "(u'the', u'middle', u'east')\n",
      "(u'the', u'eu', u'is')\n",
      "(u',', u'but', u'in')\n",
      "(u'much', u'of', u'the')\n",
      "(u'the', u'effects', u'of')\n",
      "(u'up', u'to', u'the')\n",
      "(u'all', u',', u'the')\n",
      "(u'the', u'costs', u'of')\n",
      "(u'%', u'of', u'the')\n",
      "(u')', u',', u'and')\n",
      "(u'a', u'sense', u'of')\n",
      "(u'the', u'eu', u\"'s\")\n",
      "(u'europe', u',', u'the')\n",
      "(u'led', u'to', u'a')\n",
      "(u'economic', u'growth', u',')\n",
      "(u'the', u'fact', u'that')\n",
      "(u',', u'we', u'must')\n",
      "(u'increase', u'in', u'the')\n",
      "(u',', u'and', u'more')\n",
      "(u'in', u'favor', u'of')\n",
      "(u'as', u'much', u'as')\n",
      "(u'that', u'is', u',')\n",
      "(u'the', u'contrary', u',')\n",
      "(u'the', u'importance', u'of')\n",
      "(u'that', u'it', u'is')\n",
      "(u'will', u'be', u'the')\n",
      "(u',', u'that', u'the')\n",
      "(u'of', u'the', u'new')\n",
      "(u',', u'we', u'have')\n",
      "(u'the', u'european', u'union\\u2019s')\n",
      "(u'the', u'idea', u'that')\n",
      "(u'parts', u'of', u'the')\n",
      "(u'the', u'cost', u'of')\n",
      "(u',', u'it', u'has')\n",
      "(u',', u'the', u'government')\n",
      "(u'the', u'use', u'of')\n",
      "(u'the', u'country', u\"'s\")\n",
      "(u'in', u'exchange', u'for')\n",
      "(u'seen', u'as', u'a')\n",
      "(u'in', u'fact', u',')\n"
     ]
    },
    {
     "data": {
      "text/plain": [
       "505"
      ]
     },
     "execution_count": 125,
     "metadata": {},
     "output_type": "execute_result"
    }
   ],
   "source": [
    "num_big =0\n",
    "for key in ngram_counts.keys():\n",
    "    if len(ngram_counts[key].values()) < 20:\n",
    "        del ngram_counts[key]\n",
    "    elif len(key) == 3 and len(ngram_counts[key].values()) > 100:\n",
    "        num_big += 1\n",
    "        print(key)\n",
    "num_big"
   ]
  },
  {
   "cell_type": "code",
   "execution_count": 126,
   "metadata": {
    "collapsed": false
   },
   "outputs": [
    {
     "data": {
      "text/plain": [
       "35673"
      ]
     },
     "execution_count": 126,
     "metadata": {},
     "output_type": "execute_result"
    }
   ],
   "source": [
    "len(ngram_counts.keys())\n"
   ]
  },
  {
   "cell_type": "code",
   "execution_count": 127,
   "metadata": {
    "collapsed": true
   },
   "outputs": [],
   "source": [
    "from blist import sortedlist\n",
    "def sorted_list_dd():\n",
    "    # sort descending by score\n",
    "    return sortedlist([], key=lambda i: -i[1])"
   ]
  },
  {
   "cell_type": "code",
   "execution_count": 128,
   "metadata": {
    "collapsed": false
   },
   "outputs": [],
   "source": [
    "ngram_scores = defaultdict(sorted_list_dd)\n",
    "\n",
    "for key in ngram_counts:\n",
    "    total_occs = sum(ngram_counts[key].values())\n",
    "    # items should already be in descending frequency order\n",
    "    for word, count in ngram_counts[key].items():\n",
    "        probability_score = np.log(float(count) / total_occs)\n",
    "        ngram_scores[key].add((word, probability_score))"
   ]
  },
  {
   "cell_type": "code",
   "execution_count": 130,
   "metadata": {
    "collapsed": false
   },
   "outputs": [
    {
     "data": {
      "text/plain": [
       "sortedlist([(u'most', -1.7572474169229115), (u'world\\u2019s', -2.4415839678007019), (u'main', -3.22653869761377), (u'few', -3.3276348144851386), (u'great', -3.7765850345330421), (u'first', -3.7765850345330421), (u'best', -3.881945550190868), (u'key', -3.9997285858472518), (u'world', -4.0422882002660474), (u'greatest', -4.1332599784717745), (u'two', -4.2333434370287568), (u'largest', -4.2333434370287568), (u'worst', -4.2874106582990326), (u'major', -4.2874106582990326), (u'reasons', -4.2874106582990326), (u'more', -4.3445690721389809), (u'highest', -4.4697322150929875), (u'many', -4.6128330587336608), (u'biggest', -4.6928757664071972), (u'poorest', -4.7798871433968264), (u'three', -4.7798871433968264), (u'oldest', -4.8751973232011512), (u'richest', -4.980557838858978), (u'lowest', -4.980557838858978), (u'country\\u2019s', -5.0983408745153609), (u'central', -5.3860229469671426), (u'top', -5.3860229469671426), (u'least', -5.3860229469671426), (u'countries', -5.3860229469671426), (u'last', -5.3860229469671426), (u'pillars', -5.3860229469671426), (u'big', -5.3860229469671426), (u'region\\u2019s', -5.3860229469671426), (u'four', -5.5683445037610966), (u'leaders', -5.5683445037610966), (u'fundamental', -5.5683445037610966), (u'eu\\u2019s', -5.5683445037610966), (u'leading', -5.5683445037610966), (u'fastest', -5.7914880550753063), (u'toughest', -5.7914880550753063), (u'architects', -5.7914880550753063), (u'lessons', -5.7914880550753063), (u'middle', -5.7914880550753063), (u'five', -5.7914880550753063), (u'strongest', -5.7914880550753063), (u'rare', -5.7914880550753063), (u'single', -5.7914880550753063), (u'important', -5.7914880550753063), (u'causes', -6.0791701275270871), (u'hardest', -6.0791701275270871), (u'six', -6.0791701275270871), (u'chief', -6.0791701275270871), (u'factors', -6.0791701275270871), (u'crucial', -6.0791701275270871), (u'imf\\u2019s', -6.0791701275270871), (u'only', -6.0791701275270871), (u'longest', -6.0791701275270871), (u'gravest', -6.0791701275270871), (u'ways', -6.0791701275270871), (u'players', -6.0791701275270871), (u'arguments', -6.0791701275270871), (u'less', -6.0791701275270871), (u'victims', -6.0791701275270871), (u'boys', -6.0791701275270871), (u'problems', -6.0791701275270871), (u'wealthiest', -6.4846352356352517), (u'twentieth', -6.4846352356352517), (u'outcomes', -6.4846352356352517), (u'rights', -6.4846352356352517), (u'root', -6.4846352356352517), (u'good', -6.4846352356352517), (u'cornerstones', -6.4846352356352517), (u'costliest', -6.4846352356352517), (u'best-known', -6.4846352356352517), (u'finest', -6.4846352356352517), (u'issues', -6.4846352356352517), (u'authors', -6.4846352356352517), (u'risks', -6.4846352356352517), (u'outstanding', -6.4846352356352517), (u'premier', -6.4846352356352517), (u'relatively', -6.4846352356352517), (u'concerns', -6.4846352356352517), (u'consequences', -6.4846352356352517), (u'darkest', -6.4846352356352517), (u'paradoxes', -6.4846352356352517), (u'principal', -6.4846352356352517), (u'giants', -6.4846352356352517), (u'clearest', -6.4846352356352517), (u'handful', -6.4846352356352517), (u'motives', -6.4846352356352517), (u'developing', -6.4846352356352517), (u'defining', -6.4846352356352517), (u'tribal', -6.4846352356352517), (u'soundest', -6.4846352356352517), (u'revolution\\u2019s', -6.4846352356352517), (u'european', -6.4846352356352517), (u'regime\\u2019s', -6.4846352356352517), (u'seats', -6.4846352356352517), (u'essential', -6.4846352356352517), (u'madrid', -6.4846352356352517), (u'economic', -6.4846352356352517), (u'core', -6.4846352356352517), (u'parties', -6.4846352356352517), (u'alleged', -6.4846352356352517), (u'goals', -6.4846352356352517), (u'global', -7.1777824161951971), (u'results', -7.1777824161951971), (u'existing', -7.1777824161951971), (u'asian', -7.1777824161951971), (u'foundations', -7.1777824161951971), (u'votes', -7.1777824161951971), (u'themes', -7.1777824161951971), (u'casualties', -7.1777824161951971), (u'marks', -7.1777824161951971), (u'egyptian', -7.1777824161951971), (u'very', -7.1777824161951971), (u'choice', -7.1777824161951971), (u'akp\\u2019s', -7.1777824161951971), (u'bravest', -7.1777824161951971), (u'\\u201cnudges\\u201d', -7.1777824161951971), (u'cheapest', -7.1777824161951971), (u'proposals', -7.1777824161951971), (u'\\u201cfounding', -7.1777824161951971), (u'small', -7.1777824161951971), (u'20th', -7.1777824161951971), (u'smaller', -7.1777824161951971), (u'ten', -7.1777824161951971), (u'streets', -7.1777824161951971), (u'movement\\u2019s', -7.1777824161951971), (u'poles', -7.1777824161951971), (u'scs', -7.1777824161951971), (u'above', -7.1777824161951971), (u'new', -7.1777824161951971), (u'firms', -7.1777824161951971), (u'public', -7.1777824161951971), (u'multitude', -7.1777824161951971), (u'paradoxical', -7.1777824161951971), (u'muslim', -7.1777824161951971), (u'french', -7.1777824161951971), (u'youngest', -7.1777824161951971), (u'smartest', -7.1777824161951971), (u'slogans', -7.1777824161951971), (u'prosecutors', -7.1777824161951971), (u'spheres', -7.1777824161951971), (u'rueful', -7.1777824161951971), (u'changes', -7.1777824161951971), (u'genuinely', -7.1777824161951971), (u'apple', -7.1777824161951971), (u'marvels', -7.1777824161951971), (u'dpj\\u2019s', -7.1777824161951971), (u'flaws', -7.1777824161951971), (u'concept\\u2019s', -7.1777824161951971), (u'inevitable', -7.1777824161951971), (u'coordinators', -7.1777824161951971), (u'sessions', -7.1777824161951971), (u'phone', -7.1777824161951971), (u'most-important', -7.1777824161951971), (u'disabling', -7.1777824161951971), (u'easiest', -7.1777824161951971), (u'women', -7.1777824161951971), (u'town', -7.1777824161951971), (u'debates', -7.1777824161951971), (u'concepts', -7.1777824161951971), (u'exceptions', -7.1777824161951971), (u'masterminds', -7.1777824161951971), (u'purposes', -7.1777824161951971), (u'high', -7.1777824161951971), (u'bloodiest', -7.1777824161951971), (u'founding', -7.1777824161951971), (u'fielders', -7.1777824161951971), (u'cardinal', -7.1777824161951971), (u'wittiest', -7.1777824161951971), (u'triumphs', -7.1777824161951971), (u'islamic', -7.1777824161951971), (u'wikileaks', -7.1777824161951971), (u'heroes', -7.1777824161951971), (u'ebrd\\u2019s', -7.1777824161951971), (u'miracles', -7.1777824161951971), (u'tongue-twisting', -7.1777824161951971), (u'institutional', -7.1777824161951971), (u'ipcc\\u2019s', -7.1777824161951971), (u'cold', -7.1777824161951971), (u'26', -7.1777824161951971), (u'group', -7.1777824161951971), (u'imf', -7.1777824161951971), (u'brigade\\u2019s', -7.1777824161951971), (u'symptoms', -7.1777824161951971), (u'permanent', -7.1777824161951971), (u'manifestos', -7.1777824161951971), (u'founders', -7.1777824161951971), (u'murkiest', -7.1777824161951971), (u'petition', -7.1777824161951971), (u'finer', -7.1777824161951971), (u'physicians', -7.1777824161951971), (u'effects', -7.1777824161951971), (u'aspirations', -7.1777824161951971), (u'towering', -7.1777824161951971), (u'knottiest', -7.1777824161951971), (u'war\\u2019s', -7.1777824161951971), (u'best-designed', -7.1777824161951971), (u'union\\u2019s', -7.1777824161951971), (u'possibilities', -7.1777824161951971), (u'best-kept', -7.1777824161951971), (u'shocking', -7.1777824161951971), (u'reactions', -7.1777824161951971), (u'protesters\\u2019', -7.1777824161951971), (u'700', -7.1777824161951971), (u'books', -7.1777824161951971), (u'eu', -7.1777824161951971), (u'special', -7.1777824161951971), (u'driving', -7.1777824161951971), (u'keys', -7.1777824161951971), (u'dutch', -7.1777824161951971), (u'advantages', -7.1777824161951971), (u'earliest', -7.1777824161951971), (u'cornerstone', -7.1777824161951971), (u'shortest', -7.1777824161951971), (u'fastest-flowing', -7.1777824161951971), (u'messages', -7.1777824161951971), (u'dpj', -7.1777824161951971), (u'primary', -7.1777824161951971), (u'channels', -7.1777824161951971), (u'president', -7.1777824161951971), (u'pakistani', -7.1777824161951971), (u'kindest', -7.1777824161951971), (u'western', -7.1777824161951971), (u'inmates', -7.1777824161951971), (u'constituent', -7.1777824161951971), (u'elite', -7.1777824161951971), (u'10', -7.1777824161951971), (u'conspirators', -7.1777824161951971), (u'15', -7.1777824161951971), (u'16', -7.1777824161951971), (u'richer', -7.1777824161951971), (u'patients', -7.1777824161951971), (u'creditors', -7.1777824161951971), (u'jewels', -7.1777824161951971), (u'prestigious', -7.1777824161951971), (u'speakers', -7.1777824161951971), (u'transnational', -7.1777824161951971), (u'strengths', -7.1777824161951971), (u'normal', -7.1777824161951971), (u'failure', -7.1777824161951971), (u'stronger', -7.1777824161951971), (u'senior', -7.1777824161951971), (u'weakest', -7.1777824161951971), (u'russian', -7.1777824161951971), (u'partners', -7.1777824161951971), (u'(', -7.1777824161951971), (u'buttons', -7.1777824161951971), (u'npt', -7.1777824161951971), (u'dominant', -7.1777824161951971), (u'means', -7.1777824161951971), (u'700,000', -7.1777824161951971), (u'foremost', -7.1777824161951971), (u'international', -7.1777824161951971), (u'areas', -7.1777824161951971), (u'busiest', -7.1777824161951971), (u'roughest', -7.1777824161951971), (u'jokes', -7.1777824161951971), (u'cartoons', -7.1777824161951971), (u'recommendations', -7.1777824161951971), (u'worrying', -7.1777824161951971), (u'pledge\\u2019s', -7.1777824161951971), (u'sex', -7.1777824161951971), (u'accused', -7.1777824161951971), (u'kremlin\\u2019s', -7.1777824161951971), (u'euro\\u2019s', -7.1777824161951971), (u'difficulties', -7.1777824161951971), (u'keynote', -7.1777824161951971), (u'men', -7.1777824161951971), (u'highest-flying', -7.1777824161951971), (u'opposition', -7.1777824161951971), (u'mujahideen', -7.1777824161951971), (u'motivations', -7.1777824161951971), (u'participating', -7.1777824161951971), (u'cleanest', -7.1777824161951971), (u'church', -7.1777824161951971), (u'perpetrators', -7.1777824161951971), (u'venn', -7.1777824161951971), (u'late', -7.1777824161951971), (u'engines', -7.1777824161951971), (u'union', -7.1777824161951971), (u'strategy', -7.1777824161951971), (u'basic', -7.1777824161951971), (u'proudest', -7.1777824161951971), (u'policy', -7.1777824161951971), (u'towns', -7.1777824161951971), (u'strangest', -7.1777824161951971), (u'ongoing', -7.1777824161951971), (u'policies', -7.1777824161951971), (u'country', -7.1777824161951971), (u'uk\\u2019s', -7.1777824161951971), (u'seven', -7.1777824161951971), (u'crowning', -7.1777824161951971), (u'unwritten', -7.1777824161951971), (u'things', -7.1777824161951971), (u'recurrent', -7.1777824161951971), (u'party\\u2019s', -7.1777824161951971), (u'several', -7.1777824161951971), (u'largest-ever', -7.1777824161951971), (u'lawyers', -7.1777824161951971), (u'closest', -7.1777824161951971), (u'governors', -7.1777824161951971), (u'pubs', -7.1777824161951971), (u'pioneers', -7.1777824161951971), (u'recent', -7.1777824161951971), (u'studies', -7.1777824161951971), (u'costs', -7.1777824161951971), (u'iron-ore', -7.1777824161951971), (u'better-performing', -7.1777824161951971), (u'newest', -7.1777824161951971), (u'questions', -7.1777824161951971), (u'\\u201csafest\\u201d', -7.1777824161951971), (u'arab', -7.1777824161951971), (u'projects', -7.1777824161951971), (u'necessary', -7.1777824161951971), (u'stranger', -7.1777824161951971), (u'safest', -7.1777824161951971), (u'steps', -7.1777824161951971), (u'security', -7.1777824161951971), (u'twelve', -7.1777824161951971), (u'densest', -7.1777824161951971), (u'people', -7.1777824161951971), (u'fathers', -7.1777824161951971), (u'dead', -7.1777824161951971), (u'extremist', -7.1777824161951971), (u'indirect', -7.1777824161951971), (u'comments', -7.1777824161951971), (u'best-performing', -7.1777824161951971), (u'ironies', -7.1777824161951971), (u'beleaguered', -7.1777824161951971), (u'weightiest', -7.1777824161951971), (u'astounding', -7.1777824161951971), (u'nails', -7.1777824161951971), (u'iconic', -7.1777824161951971), (u'host', -7.1777824161951971), (u'stations', -7.1777824161951971), (u'seeds', -7.1777824161951971), (u'masterpieces', -7.1777824161951971), (u'organizers', -7.1777824161951971), (u'intellectual', -7.1777824161951971), (u'female', -7.1777824161951971), (u'uncertainties', -7.1777824161951971), (u'clinical', -7.1777824161951971), (u'company\\u2019s', -7.1777824161951971), (u'staunchest', -7.1777824161951971), (u'liveliest', -7.1777824161951971), (u'apollo', -7.1777824161951971), (u'post-soviet', -7.1777824161951971), (u'apostles', -7.1777824161951971), (u'dirty', -7.1777824161951971), (u'plaintiffs', -7.1777824161951971), (u'junta\\u2019s', -7.1777824161951971), (u'syrian', -7.1777824161951971), (u'film', -7.1777824161951971), (u'field', -7.1777824161951971), (u'other', -7.1777824161951971), (u'sick', -7.1777824161951971), (u'better', -7.1777824161951971), (u'misconceptions', -7.1777824161951971), (u'surest', -7.1777824161951971), (u'cities\\u2019', -7.1777824161951971), (u'gulag', -7.1777824161951971), (u'republicans\\u2019', -7.1777824161951971), (u'nineteenth', -7.1777824161951971), (u'building', -7.1777824161951971), (u'photos', -7.1777824161951971), (u'women\\u2019s', -7.1777824161951971), (u'tightest', -7.1777824161951971)])"
      ]
     },
     "execution_count": 130,
     "metadata": {},
     "output_type": "execute_result"
    }
   ],
   "source": [
    "ngram_scores[tuple([u'one', u'of', u'the'])]"
   ]
  },
  {
   "cell_type": "code",
   "execution_count": 96,
   "metadata": {
    "collapsed": true
   },
   "outputs": [],
   "source": [
    "# map to list for pickling\n",
    "ngram_lookup_obj = defaultdict(list)\n",
    "for key, sorted_vals in ngram_scores.items():\n",
    "    ngram_lookup_obj[key] = list(sorted_vals)"
   ]
  },
  {
   "cell_type": "code",
   "execution_count": 97,
   "metadata": {
    "collapsed": true
   },
   "outputs": [],
   "source": [
    "# WORKING:\n",
    "# get the actual probability of each following token\n",
    "# tokens should be scored by both length and probability -- only longer tokens will really save the user time\n",
    "# However, the second prefix filtering step should let the user quickly find longer tokens\n",
    "# (but still weighted by probability)\n",
    "\n",
    "# we may want to filter punctuation out of the counts, at least when they are returned to the user"
   ]
  },
  {
   "cell_type": "code",
   "execution_count": 98,
   "metadata": {
    "collapsed": false
   },
   "outputs": [
    {
     "data": {
      "text/plain": [
       "Counter({u'different': 59, u'large': 23, u'high': 22, u'small': 18, u'low': 18, u'good': 13, u'strong': 13, u'long': 11, u'real': 8, u'poor': 8, u'big': 7, u'few': 7, u'short': 7, u'important': 6, u'serious': 6, u'bad': 5, u'special': 4, u'expensive': 4, u'sharp': 4, u'significant': 4, u'mild': 3, u'uncomfortable': 3, u'complicated': 3, u'narrow': 3, u'simple': 3, u'powerful': 3, u'dangerous': 3, u'similar': 3, u'awkward': 3, u'difficult': 3, u'limited': 2, u'precarious': 2, u'valuable': 2, u'distant': 2, u'controversial': 2, u'complex': 2, u'attractive': 2, u'specific': 2, u'old': 2, u'hard': 2, u'broad': 2, u'conservative': 2, u'open': 2, u'successful': 2, u'modern': 2, u'delicate': 2, u'measured': 2, u'high-risk': 1, u'cheap': 1, u'cold': 1, u'high-level': 1, u'fine': 1, u'unhealthy': 1, u'profitable': 1, u'rapid': 1, u'internationally': 1, u'adverse': 1, u'young': 1, u'transparent': 1, u'easy': 1, u'selfish': 1, u'smart': 1, u'traditionalistic': 1, u'low-grade': 1, u'early': 1, u'simplistic': 1, u'wealthy': 1, u'uncertain': 1, u'cunningly': 1, u'grim': 1, u'helpful': 1, u'visible': 1, u'skewed': 1, u'realistic': 1, u'common': 1, u'reasonable': 1, u'rich': 1, u'soft': 1, u'likely': 1, u'corrupt': 1, u'close': 1, u'odd': 1, u'brittle': 1, u'probable': 1, u'painful': 1, u'slight': 1, u'closed': 1, u'crude': 1, u'new': 1, u'anglo-saxon': 1, u'public': 1, u'considerable': 1, u'sensible': 1, u'weak': 1, u'popular': 1, u'uneven': 1, u'active': 1, u'subdued': 1, u'tangible': 1, u'talented': 1, u'uninteresting': 1, u'practical': 1, u'long-term': 1, u'primitive': 1, u'tough': 1, u'secure': 1, u'peculiar': 1, u'bumpy': 1, u'lively': 1, u'sober': 1, u'startling': 1, u'fast': 1, u'decent': 1, u'top': 1, u'unpleasant': 1, u'basic': 1, u'minor': 1, u'clever': 1, u'vigorous': 1, u'inefficient': 1, u'cautious': 1, u'favorable': 1, u'pro-active': 1, u'junior': 1, u'present': 1, u'wide': 1, u'wise': 1, u'liquid': 1, u'reliable': 1, u'ugly': 1, u'harmonious': 1, u'silly': 1, u'dirty': 1, u'promising': 1, u'heterogeneous': 1, u'risky': 1, u'pessimistic': 1, u'liberal': 1, u'challenging': 1, u'deep': 1, u'substantial': 1, u'optimistic': 1, u'\\u201ceuropean\\u201d': 1, u'imperfect': 1, u'huge': 1, u'harsh': 1, u'convenient': 1, u'elevated': 1, u'tight': 1, u'hot': 1, u'strange': 1, u'ambitious': 1, u'blunt': 1, u'funny': 1, u'modest': 1, u'tricky': 1, u'effective': 1, u'considered': 1, u'dogmatic': 1, u'well': 1, u'concrete': 1, u'senior': 1})"
      ]
     },
     "execution_count": 98,
     "metadata": {},
     "output_type": "execute_result"
    }
   ],
   "source": [
    "ngram_counts[tuple([u'a', u'very'])]\n"
   ]
  },
  {
   "cell_type": "code",
   "execution_count": 100,
   "metadata": {
    "collapsed": false
   },
   "outputs": [],
   "source": [
    "import cPickle\n",
    "cPickle.dump(ngram_lookup_obj, open('europarl.test.ngram_scores.cpkl', 'wb'))"
   ]
  },
  {
   "cell_type": "code",
   "execution_count": 102,
   "metadata": {
    "collapsed": false
   },
   "outputs": [],
   "source": [
    "test_loaded = cPickle.load(open('europarl.test.ngram_scores.cpkl', 'rb'))"
   ]
  },
  {
   "cell_type": "code",
   "execution_count": 6,
   "metadata": {
    "collapsed": true
   },
   "outputs": [],
   "source": [
    "from collections import defaultdict\n",
    "def rec_dd():\n",
    "    return defaultdict(rec_dd)"
   ]
  },
  {
   "cell_type": "code",
   "execution_count": null,
   "metadata": {
    "collapsed": true
   },
   "outputs": [],
   "source": [
    "# Counter API\n",
    "# sum(c.values())                 # total of all counts\n",
    "# c.clear()                       # reset all counts\n",
    "# list(c)                         # list unique elements\n",
    "# set(c)                          # convert to a set\n",
    "# dict(c)                         # convert to a regular dictionary\n",
    "# c.items()                       # convert to a list of (elem, cnt) pairs\n",
    "# Counter(dict(list_of_pairs))    # converttofrom a list of (elem, cnt) pairs\n",
    "# c.most_common()[:-n-1:-1]       # n least common elements\n",
    "# c += Counter()                  # remove zero and negative counts"
   ]
  },
  {
   "cell_type": "code",
   "execution_count": 1,
   "metadata": {
    "collapsed": false
   },
   "outputs": [
    {
     "ename": "NameError",
     "evalue": "name 'Counter' is not defined",
     "output_type": "error",
     "traceback": [
      "\u001b[1;31m---------------------------------------------------------------------------\u001b[0m",
      "\u001b[1;31mNameError\u001b[0m                                 Traceback (most recent call last)",
      "\u001b[1;32m<ipython-input-1-54094448d205>\u001b[0m in \u001b[0;36m<module>\u001b[1;34m()\u001b[0m\n\u001b[1;32m----> 1\u001b[1;33m \u001b[0mc\u001b[0m \u001b[1;33m=\u001b[0m \u001b[0mCounter\u001b[0m\u001b[1;33m(\u001b[0m\u001b[0ma\u001b[0m\u001b[1;33m=\u001b[0m\u001b[1;36m3\u001b[0m\u001b[1;33m,\u001b[0m \u001b[0mb\u001b[0m\u001b[1;33m=\u001b[0m\u001b[1;36m1\u001b[0m\u001b[1;33m)\u001b[0m\u001b[1;33m\u001b[0m\u001b[0m\n\u001b[0m\u001b[0;32m      2\u001b[0m \u001b[0md\u001b[0m \u001b[1;33m=\u001b[0m \u001b[0mCounter\u001b[0m\u001b[1;33m(\u001b[0m\u001b[0ma\u001b[0m\u001b[1;33m=\u001b[0m\u001b[1;36m1\u001b[0m\u001b[1;33m,\u001b[0m \u001b[0mb\u001b[0m\u001b[1;33m=\u001b[0m\u001b[1;36m2\u001b[0m\u001b[1;33m)\u001b[0m\u001b[1;33m\u001b[0m\u001b[0m\n\u001b[0;32m      3\u001b[0m \u001b[0mc\u001b[0m \u001b[1;33m+\u001b[0m \u001b[0md\u001b[0m                       \u001b[1;31m# add two counters together:  c[x] + d[x]\u001b[0m\u001b[1;33m\u001b[0m\u001b[0m\n\u001b[0;32m      4\u001b[0m \u001b[0mCounter\u001b[0m\u001b[1;33m(\u001b[0m\u001b[1;33m{\u001b[0m\u001b[1;34m'a'\u001b[0m\u001b[1;33m:\u001b[0m \u001b[1;36m4\u001b[0m\u001b[1;33m,\u001b[0m \u001b[1;34m'b'\u001b[0m\u001b[1;33m:\u001b[0m \u001b[1;36m3\u001b[0m\u001b[1;33m}\u001b[0m\u001b[1;33m)\u001b[0m\u001b[1;33m\u001b[0m\u001b[0m\n\u001b[0;32m      5\u001b[0m \u001b[0mc\u001b[0m \u001b[1;33m-\u001b[0m \u001b[0md\u001b[0m                       \u001b[1;31m# subtract (keeping only positive counts)\u001b[0m\u001b[1;33m\u001b[0m\u001b[0m\n",
      "\u001b[1;31mNameError\u001b[0m: name 'Counter' is not defined"
     ]
    }
   ],
   "source": [
    ">>> c = Counter(a=3, b=1)\n",
    ">>> d = Counter(a=1, b=2)\n",
    ">>> c + d                       # add two counters together:  c[x] + d[x]\n",
    "Counter({'a': 4, 'b': 3})\n",
    ">>> c - d                       # subtract (keeping only positive counts)\n",
    "Counter({'a': 2})\n",
    ">>> c & d                       # intersection:  min(c[x], d[x])\n",
    "Counter({'a': 1, 'b': 1})\n",
    ">>> c | d                       # union:  max(c[x], d[x])\n",
    "Counter({'a': 3, 'b': 2})"
   ]
  },
  {
   "cell_type": "code",
   "execution_count": 75,
   "metadata": {
    "collapsed": false
   },
   "outputs": [],
   "source": [
    "x = Counter()\n",
    "x.update({tuple(['t', 'x']): 1})"
   ]
  },
  {
   "cell_type": "code",
   "execution_count": 76,
   "metadata": {
    "collapsed": false
   },
   "outputs": [
    {
     "data": {
      "text/plain": [
       "[('t', 'x')]"
      ]
     },
     "execution_count": 76,
     "metadata": {},
     "output_type": "execute_result"
    }
   ],
   "source": [
    "x.keys()"
   ]
  },
  {
   "cell_type": "code",
   "execution_count": null,
   "metadata": {
    "collapsed": true
   },
   "outputs": [],
   "source": []
  }
 ],
 "metadata": {
  "kernelspec": {
   "display_name": "Python 2",
   "language": "python",
   "name": "python2"
  },
  "language_info": {
   "codemirror_mode": {
    "name": "ipython",
    "version": 2
   },
   "file_extension": ".py",
   "mimetype": "text/x-python",
   "name": "python",
   "nbconvert_exporter": "python",
   "pygments_lexer": "ipython2",
   "version": "2.7.9"
  }
 },
 "nbformat": 4,
 "nbformat_minor": 0
}
